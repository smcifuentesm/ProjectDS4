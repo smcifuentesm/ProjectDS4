{
  "nbformat": 4,
  "nbformat_minor": 0,
  "metadata": {
    "colab": {
      "name": "Copy of projectds4a.ipynb",
      "provenance": [],
      "collapsed_sections": [],
      "include_colab_link": true
    },
    "kernelspec": {
      "name": "python3",
      "display_name": "Python 3"
    }
  },
  "cells": [
    {
      "cell_type": "markdown",
      "metadata": {
        "id": "view-in-github",
        "colab_type": "text"
      },
      "source": [
        "<a href=\"https://colab.research.google.com/github/smcifuentesm/ProjectDS4/blob/master/Copy_of_projectds4a.ipynb\" target=\"_parent\"><img src=\"https://colab.research.google.com/assets/colab-badge.svg\" alt=\"Open In Colab\"/></a>"
      ]
    },
    {
      "cell_type": "code",
      "metadata": {
        "id": "BlWCKKle6jYx",
        "outputId": "89229085-8d55-40f0-f01e-5e3cb175226c",
        "colab": {
          "base_uri": "https://localhost:8080/",
          "height": 1000
        }
      },
      "source": [
        "%%time \n",
        "!apt update --quiet\n",
        "!apt upgrade --quiet\n",
        "# GDAL Important library for many geopython libraries\n",
        "!apt install gdal-bin python-gdal python3-gdal --quiet\n",
        "# Install rtree - Geopandas requirment\n",
        "!apt install python3-rtree --quiet\n",
        "# Install Geopandas\n",
        "!pip install git+git://github.com/geopandas/geopandas.git --quiet\n",
        "# Install descartes - Geopandas requirment\n",
        "!pip install descartes --quiet\n",
        "# Install Folium for Geographic data visualization\n",
        "!pip install folium --quiet\n",
        "# Install Pysal\n",
        "!pip install pysal --quiet\n",
        "# Install splot --> pysal\n",
        "!pip install splot --quiet\n",
        "# Install mapclassify\n",
        "!pip install mapclassify --quiet"
      ],
      "execution_count": 2,
      "outputs": [
        {
          "output_type": "stream",
          "text": [
            "Get:1 https://cloud.r-project.org/bin/linux/ubuntu bionic-cran40/ InRelease [3,626 B]\n",
            "Ign:2 https://developer.download.nvidia.com/compute/cuda/repos/ubuntu1804/x86_64  InRelease\n",
            "Get:3 http://security.ubuntu.com/ubuntu bionic-security InRelease [88.7 kB]\n",
            "Ign:4 https://developer.download.nvidia.com/compute/machine-learning/repos/ubuntu1804/x86_64  InRelease\n",
            "Get:5 https://developer.download.nvidia.com/compute/cuda/repos/ubuntu1804/x86_64  Release [697 B]\n",
            "Hit:6 https://developer.download.nvidia.com/compute/machine-learning/repos/ubuntu1804/x86_64  Release\n",
            "Get:7 https://developer.download.nvidia.com/compute/cuda/repos/ubuntu1804/x86_64  Release.gpg [836 B]\n",
            "Get:8 http://ppa.launchpad.net/c2d4u.team/c2d4u4.0+/ubuntu bionic InRelease [15.9 kB]\n",
            "Hit:9 http://archive.ubuntu.com/ubuntu bionic InRelease\n",
            "Get:10 http://archive.ubuntu.com/ubuntu bionic-updates InRelease [88.7 kB]\n",
            "Hit:12 http://ppa.launchpad.net/graphics-drivers/ppa/ubuntu bionic InRelease\n",
            "Ign:13 https://developer.download.nvidia.com/compute/cuda/repos/ubuntu1804/x86_64  Packages\n",
            "Get:13 https://developer.download.nvidia.com/compute/cuda/repos/ubuntu1804/x86_64  Packages [334 kB]\n",
            "Get:14 http://security.ubuntu.com/ubuntu bionic-security/universe amd64 Packages [1,341 kB]\n",
            "Get:15 http://archive.ubuntu.com/ubuntu bionic-backports InRelease [74.6 kB]\n",
            "Get:16 http://security.ubuntu.com/ubuntu bionic-security/main amd64 Packages [1,693 kB]\n",
            "Get:17 http://ppa.launchpad.net/c2d4u.team/c2d4u4.0+/ubuntu bionic/main Sources [1,675 kB]\n",
            "Get:18 http://archive.ubuntu.com/ubuntu bionic-updates/universe amd64 Packages [2,104 kB]\n",
            "Get:19 http://archive.ubuntu.com/ubuntu bionic-updates/main amd64 Packages [2,110 kB]\n",
            "Get:20 http://ppa.launchpad.net/c2d4u.team/c2d4u4.0+/ubuntu bionic/main amd64 Packages [857 kB]\n",
            "Fetched 10.4 MB in 4s (2,711 kB/s)\n",
            "Reading package lists...\n",
            "Building dependency tree...\n",
            "Reading state information...\n",
            "11 packages can be upgraded. Run 'apt list --upgradable' to see them.\n",
            "Reading package lists...\n",
            "Building dependency tree...\n",
            "Reading state information...\n",
            "Calculating upgrade...\n",
            "The following packages have been kept back:\n",
            "  libcublas-dev libcublas10 libcudnn7 libcudnn7-dev libnccl-dev libnccl2\n",
            "The following packages will be upgraded:\n",
            "  r-cran-clipr r-cran-htmlwidgets r-cran-ps r-cran-readr r-cran-rlang\n",
            "5 upgraded, 0 newly installed, 0 to remove and 6 not upgraded.\n",
            "Need to get 2,308 kB of archives.\n",
            "After this operation, 1,560 kB disk space will be freed.\n",
            "Get:1 http://ppa.launchpad.net/c2d4u.team/c2d4u4.0+/ubuntu bionic/main amd64 r-cran-clipr all 0.7.1-1cran1.1804.0 [47.6 kB]\n",
            "Get:2 http://ppa.launchpad.net/c2d4u.team/c2d4u4.0+/ubuntu bionic/main amd64 r-cran-htmlwidgets all 1.5.2-1cran1.1804.0 [241 kB]\n",
            "Get:3 http://ppa.launchpad.net/c2d4u.team/c2d4u4.0+/ubuntu bionic/main amd64 r-cran-ps amd64 1.4.0-1cran1.1804.0 [240 kB]\n",
            "Get:4 http://ppa.launchpad.net/c2d4u.team/c2d4u4.0+/ubuntu bionic/main amd64 r-cran-rlang amd64 0.4.8-1cran1.1804.0 [1,025 kB]\n",
            "Get:5 http://ppa.launchpad.net/c2d4u.team/c2d4u4.0+/ubuntu bionic/main amd64 r-cran-readr amd64 1.4.0-1cran1.1804.0 [754 kB]\n",
            "Fetched 2,308 kB in 5s (476 kB/s)\n",
            "(Reading database ... 144617 files and directories currently installed.)\n",
            "Preparing to unpack .../r-cran-clipr_0.7.1-1cran1.1804.0_all.deb ...\n",
            "Unpacking r-cran-clipr (0.7.1-1cran1.1804.0) over (0.7.0-1cran1.1804.0) ...\n",
            "Preparing to unpack .../r-cran-htmlwidgets_1.5.2-1cran1.1804.0_all.deb ...\n",
            "Unpacking r-cran-htmlwidgets (1.5.2-1cran1.1804.0) over (1.5.1-1cran1.1804.0) ...\n",
            "Preparing to unpack .../r-cran-ps_1.4.0-1cran1.1804.0_amd64.deb ...\n",
            "Unpacking r-cran-ps (1.4.0-1cran1.1804.0) over (1.3.4-1cran1.1804.0) ...\n",
            "Preparing to unpack .../r-cran-rlang_0.4.8-1cran1.1804.0_amd64.deb ...\n",
            "Unpacking r-cran-rlang (0.4.8-1cran1.1804.0) over (0.4.7-1cran1.1804.0) ...\n",
            "Preparing to unpack .../r-cran-readr_1.4.0-1cran1.1804.0_amd64.deb ...\n",
            "Unpacking r-cran-readr (1.4.0-1cran1.1804.0) over (1.3.1-1cran1.1804.0) ...\n",
            "Setting up r-cran-ps (1.4.0-1cran1.1804.0) ...\n",
            "Setting up r-cran-clipr (0.7.1-1cran1.1804.0) ...\n",
            "Setting up r-cran-htmlwidgets (1.5.2-1cran1.1804.0) ...\n",
            "Setting up r-cran-rlang (0.4.8-1cran1.1804.0) ...\n",
            "Setting up r-cran-readr (1.4.0-1cran1.1804.0) ...\n",
            "Reading package lists...\n",
            "Building dependency tree...\n",
            "Reading state information...\n",
            "gdal-bin is already the newest version (2.2.3+dfsg-2).\n",
            "python-gdal is already the newest version (2.2.3+dfsg-2).\n",
            "python3-gdal is already the newest version (2.2.3+dfsg-2).\n",
            "0 upgraded, 0 newly installed, 0 to remove and 6 not upgraded.\n",
            "Reading package lists...\n",
            "Building dependency tree...\n",
            "Reading state information...\n",
            "The following additional packages will be installed:\n",
            "  libspatialindex-c4v5 libspatialindex-dev libspatialindex4v5\n",
            "  python3-pkg-resources\n",
            "Suggested packages:\n",
            "  python3-setuptools\n",
            "The following NEW packages will be installed:\n",
            "  libspatialindex-c4v5 libspatialindex-dev libspatialindex4v5\n",
            "  python3-pkg-resources python3-rtree\n",
            "0 upgraded, 5 newly installed, 0 to remove and 6 not upgraded.\n",
            "Need to get 671 kB of archives.\n",
            "After this operation, 3,948 kB of additional disk space will be used.\n",
            "Get:1 http://archive.ubuntu.com/ubuntu bionic/universe amd64 libspatialindex4v5 amd64 1.8.5-5 [219 kB]\n",
            "Get:2 http://archive.ubuntu.com/ubuntu bionic/universe amd64 libspatialindex-c4v5 amd64 1.8.5-5 [51.7 kB]\n",
            "Get:3 http://archive.ubuntu.com/ubuntu bionic/main amd64 python3-pkg-resources all 39.0.1-2 [98.8 kB]\n",
            "Get:4 http://archive.ubuntu.com/ubuntu bionic/universe amd64 libspatialindex-dev amd64 1.8.5-5 [285 kB]\n",
            "Get:5 http://archive.ubuntu.com/ubuntu bionic/universe amd64 python3-rtree all 0.8.3+ds-1 [16.9 kB]\n",
            "Fetched 671 kB in 1s (488 kB/s)\n",
            "Selecting previously unselected package libspatialindex4v5:amd64.\n",
            "(Reading database ... 144616 files and directories currently installed.)\n",
            "Preparing to unpack .../libspatialindex4v5_1.8.5-5_amd64.deb ...\n",
            "Unpacking libspatialindex4v5:amd64 (1.8.5-5) ...\n",
            "Selecting previously unselected package libspatialindex-c4v5:amd64.\n",
            "Preparing to unpack .../libspatialindex-c4v5_1.8.5-5_amd64.deb ...\n",
            "Unpacking libspatialindex-c4v5:amd64 (1.8.5-5) ...\n",
            "Selecting previously unselected package python3-pkg-resources.\n",
            "Preparing to unpack .../python3-pkg-resources_39.0.1-2_all.deb ...\n",
            "Unpacking python3-pkg-resources (39.0.1-2) ...\n",
            "Selecting previously unselected package libspatialindex-dev:amd64.\n",
            "Preparing to unpack .../libspatialindex-dev_1.8.5-5_amd64.deb ...\n",
            "Unpacking libspatialindex-dev:amd64 (1.8.5-5) ...\n",
            "Selecting previously unselected package python3-rtree.\n",
            "Preparing to unpack .../python3-rtree_0.8.3+ds-1_all.deb ...\n",
            "Unpacking python3-rtree (0.8.3+ds-1) ...\n",
            "Setting up libspatialindex4v5:amd64 (1.8.5-5) ...\n",
            "Setting up python3-pkg-resources (39.0.1-2) ...\n",
            "Setting up libspatialindex-c4v5:amd64 (1.8.5-5) ...\n",
            "Setting up libspatialindex-dev:amd64 (1.8.5-5) ...\n",
            "Setting up python3-rtree (0.8.3+ds-1) ...\n",
            "Processing triggers for libc-bin (2.27-3ubuntu1.2) ...\n",
            "/sbin/ldconfig.real: /usr/local/lib/python3.6/dist-packages/ideep4py/lib/libmkldnn.so.0 is not a symbolic link\n",
            "\n",
            "\u001b[K     |████████████████████████████████| 14.8MB 316kB/s \n",
            "\u001b[K     |████████████████████████████████| 10.9MB 27.9MB/s \n",
            "\u001b[?25h  Building wheel for geopandas (setup.py) ... \u001b[?25l\u001b[?25hdone\n",
            "\u001b[K     |████████████████████████████████| 112kB 4.9MB/s \n",
            "\u001b[K     |████████████████████████████████| 2.4MB 16.5MB/s \n",
            "\u001b[K     |████████████████████████████████| 71kB 7.2MB/s \n",
            "\u001b[K     |████████████████████████████████| 61kB 6.8MB/s \n",
            "\u001b[K     |████████████████████████████████| 61kB 7.1MB/s \n",
            "\u001b[K     |████████████████████████████████| 92kB 9.7MB/s \n",
            "\u001b[K     |████████████████████████████████| 51kB 6.5MB/s \n",
            "\u001b[K     |████████████████████████████████| 51kB 6.6MB/s \n",
            "\u001b[K     |████████████████████████████████| 266kB 32.0MB/s \n",
            "\u001b[K     |████████████████████████████████| 5.7MB 15.0MB/s \n",
            "\u001b[K     |████████████████████████████████| 235kB 43.7MB/s \n",
            "\u001b[K     |████████████████████████████████| 2.7MB 37.8MB/s \n",
            "\u001b[K     |████████████████████████████████| 235kB 50.2MB/s \n",
            "\u001b[K     |████████████████████████████████| 55.7MB 138kB/s \n",
            "\u001b[K     |████████████████████████████████| 18.1MB 246kB/s \n",
            "\u001b[K     |████████████████████████████████| 92kB 9.2MB/s \n",
            "\u001b[K     |████████████████████████████████| 92kB 9.6MB/s \n",
            "\u001b[K     |████████████████████████████████| 122kB 52.2MB/s \n",
            "\u001b[K     |████████████████████████████████| 102kB 11.8MB/s \n",
            "\u001b[K     |████████████████████████████████| 133kB 46.4MB/s \n",
            "\u001b[?25h  Building wheel for pysal (setup.py) ... \u001b[?25l\u001b[?25hdone\n",
            "  Building wheel for libpysal (setup.py) ... \u001b[?25l\u001b[?25hdone\n",
            "  Building wheel for esda (setup.py) ... \u001b[?25l\u001b[?25hdone\n",
            "  Building wheel for inequality (setup.py) ... \u001b[?25l\u001b[?25hdone\n",
            "  Building wheel for pointpats (setup.py) ... \u001b[?25l\u001b[?25hdone\n",
            "  Building wheel for mgwr (setup.py) ... \u001b[?25l\u001b[?25hdone\n",
            "  Building wheel for spglm (setup.py) ... \u001b[?25l\u001b[?25hdone\n",
            "  Building wheel for spint (setup.py) ... \u001b[?25l\u001b[?25hdone\n",
            "  Building wheel for spvcm (setup.py) ... \u001b[?25l\u001b[?25hdone\n",
            "  Building wheel for splot (setup.py) ... \u001b[?25l\u001b[?25hdone\n",
            "\u001b[31mERROR: datascience 0.10.6 has requirement folium==0.2.1, but you'll have folium 0.8.3 which is incompatible.\u001b[0m\n",
            "\u001b[31mERROR: albumentations 0.1.12 has requirement imgaug<0.2.7,>=0.2.5, but you'll have imgaug 0.2.9 which is incompatible.\u001b[0m\n",
            "\u001b[31mERROR: pytest-cov 2.10.1 has requirement coverage>=4.4, but you'll have coverage 3.7.1 which is incompatible.\u001b[0m\n",
            "\u001b[31mERROR: pytest-cov 2.10.1 has requirement pytest>=4.6, but you'll have pytest 3.6.4 which is incompatible.\u001b[0m\n",
            "CPU times: user 449 ms, sys: 125 ms, total: 575 ms\n",
            "Wall time: 1min 28s\n"
          ],
          "name": "stdout"
        }
      ]
    },
    {
      "cell_type": "code",
      "metadata": {
        "id": "JjLWMqgXoj7u"
      },
      "source": [
        "#import pandas as pd\n",
        "#import pandas.io.sql as sqlio\n",
        "#import psycopg2\n",
        "#import numpy as np\n",
        "#import matplotlib\n",
        "#import matplotlib.pyplot as plt\n",
        "#import seaborn as sns\n",
        "#import missingno\n",
        "#import folium \n",
        "#from folium import plugins\n",
        "#from folium.plugins import HeatMap\n",
        "#from geopy.geocoders import Nominatim\n",
        "#%matplotlib inline"
      ],
      "execution_count": 3,
      "outputs": []
    },
    {
      "cell_type": "code",
      "metadata": {
        "id": "Q_rxQ3_f63Pa",
        "outputId": "5aff9ed6-d176-4119-ec9f-ede8d0e18e51",
        "colab": {
          "base_uri": "https://localhost:8080/",
          "height": 71
        }
      },
      "source": [
        "import pandas as pd\n",
        "import pandas.io.sql as sqlio\n",
        "import psycopg2\n",
        "import numpy as np\n",
        "import geopandas as gpd\n",
        "from shapely.geometry import Point\n",
        "from pysal.explore import esda\n",
        "from pysal.lib import weights\n",
        "#import libysal as lps\n",
        "#from pysal.viz.splot.esda import plot_moran, plot_local_autocorrelation, lisa_cluster\n",
        "import matplotlib\n",
        "import matplotlib.pyplot as plt \n",
        "\n",
        "import folium\n",
        "from folium import plugins\n",
        "from folium.plugins import HeatMap\n",
        "\n",
        "import os\n",
        "import seaborn as sns\n",
        "#from sklearn.cluster import KMeans\n",
        "from sklearn.cluster import dbscan\n",
        "\n",
        "from libpysal.weights.contiguity import Queen\n",
        "from esda.moran import Moran\n",
        "from splot.esda import moran_scatterplot\n",
        "from esda.moran import Moran_Local\n",
        "from splot.esda import lisa_cluster\n",
        "\n",
        "import pysal as ps\n",
        "ps.__version__\n",
        "\n",
        "import missingno\n",
        "from geopy.geocoders import Nominatim\n",
        "\n",
        "from geopandas.tools import geocode"
      ],
      "execution_count": 4,
      "outputs": [
        {
          "output_type": "stream",
          "text": [
            "/usr/local/lib/python3.6/dist-packages/psycopg2/__init__.py:144: UserWarning: The psycopg2 wheel package will be renamed from release 2.8; in order to keep installing from binary please use \"pip install psycopg2-binary\" instead. For details see: <http://initd.org/psycopg/docs/install.html#binary-install-from-pypi>.\n",
            "  \"\"\")\n"
          ],
          "name": "stderr"
        }
      ]
    },
    {
      "cell_type": "code",
      "metadata": {
        "id": "QQU1uQ-W7nWR"
      },
      "source": [
        "%matplotlib inline"
      ],
      "execution_count": null,
      "outputs": []
    },
    {
      "cell_type": "code",
      "metadata": {
        "id": "4Y-uOLZ_o4q_",
        "outputId": "e47b2f2f-c3ee-40a2-e0d0-dd9fb0811bb1",
        "colab": {
          "base_uri": "https://localhost:8080/",
          "height": 34
        }
      },
      "source": [
        "username=\"taxisrcp_user\"\n",
        "password=\"123123123\"\n",
        "host=\"ds4ataxisrcp.col3gdd6vsxk.us-east-2.rds.amazonaws.com\"\n",
        "port=\"5432\"\n",
        "dbname=\"taxisrcp_db\"\n",
        "try:\n",
        "    connection = psycopg2.connect(\"host='{}' port={} dbname='{}' user={} password={}\".format(host, port, dbname, username, password))\n",
        "    sql = '''select s.id, s.creado fecha, \n",
        "              tp.parametro estado, \n",
        "              s.tipo_servicio,\n",
        "              dir.numero directorio,\n",
        "              direc.direccion_completa direccion,\n",
        "              direc.latitud,\n",
        "              direc.longitud,\n",
        "              b.barrio,\n",
        "              p.nombres,\n",
        "              p.genero\n",
        "            from mastermind_solicitud s \n",
        "            inner join parametrizacion_tipoparametro tp on s.status_id = tp.id\n",
        "            left join administracion_directorio dir on s.directorio_id=dir.id\n",
        "            left join administracion_perfil p on dir.perfil_id=p.id\n",
        "            left join administracion_direccion direc on dir.direccion_id = direc.id::integer\n",
        "            left join administracion_barrio b on direc.barrio_id::integer = b.id'''   \n",
        "    df = sqlio.read_sql_query(sql, connection)\n",
        "    #sql = \"select * from administracion_directorio\"\n",
        "    #df_directorio = sqlio.read_sql_query(sql, connection)\n",
        "\n",
        "except (Exception, psycopg2.Error) as error :\n",
        "    print (\"Error while fetching data from PostgreSQL\", error)\n",
        "\n",
        "finally:\n",
        "    #closing database connection.\n",
        "    if(connection):\n",
        "        connection.close()\n",
        "        print(\"PostgreSQL connection is closed\")"
      ],
      "execution_count": 5,
      "outputs": [
        {
          "output_type": "stream",
          "text": [
            "PostgreSQL connection is closed\n"
          ],
          "name": "stdout"
        }
      ]
    },
    {
      "cell_type": "code",
      "metadata": {
        "id": "BKYM7I1OqMxN"
      },
      "source": [
        "df_taxisrcp = pd.DataFrame(df)"
      ],
      "execution_count": 7,
      "outputs": []
    },
    {
      "cell_type": "code",
      "metadata": {
        "id": "Hdh9CgjcTm8y",
        "outputId": "37e0fdf6-8746-4315-b295-3b6901e7f456",
        "colab": {
          "base_uri": "https://localhost:8080/",
          "height": 606
        }
      },
      "source": [
        "df_taxisrcp"
      ],
      "execution_count": 8,
      "outputs": [
        {
          "output_type": "execute_result",
          "data": {
            "text/html": [
              "<div>\n",
              "<style scoped>\n",
              "    .dataframe tbody tr th:only-of-type {\n",
              "        vertical-align: middle;\n",
              "    }\n",
              "\n",
              "    .dataframe tbody tr th {\n",
              "        vertical-align: top;\n",
              "    }\n",
              "\n",
              "    .dataframe thead th {\n",
              "        text-align: right;\n",
              "    }\n",
              "</style>\n",
              "<table border=\"1\" class=\"dataframe\">\n",
              "  <thead>\n",
              "    <tr style=\"text-align: right;\">\n",
              "      <th></th>\n",
              "      <th>id</th>\n",
              "      <th>fecha</th>\n",
              "      <th>estado</th>\n",
              "      <th>tipo_servicio</th>\n",
              "      <th>directorio</th>\n",
              "      <th>direccion</th>\n",
              "      <th>latitud</th>\n",
              "      <th>longitud</th>\n",
              "      <th>barrio</th>\n",
              "      <th>nombres</th>\n",
              "      <th>genero</th>\n",
              "    </tr>\n",
              "  </thead>\n",
              "  <tbody>\n",
              "    <tr>\n",
              "      <th>0</th>\n",
              "      <td>2</td>\n",
              "      <td>2017-02-06 16:43:35.662873</td>\n",
              "      <td>Activa</td>\n",
              "      <td>SC</td>\n",
              "      <td>1342</td>\n",
              "      <td>Calle 16 # 37 - 47 Las Margaritas</td>\n",
              "      <td>1.220376</td>\n",
              "      <td>-77.28633259999998</td>\n",
              "      <td>Las Margaritas</td>\n",
              "      <td>None</td>\n",
              "      <td>None</td>\n",
              "    </tr>\n",
              "    <tr>\n",
              "      <th>1</th>\n",
              "      <td>4</td>\n",
              "      <td>2017-02-06 16:44:43.138051</td>\n",
              "      <td>Activa</td>\n",
              "      <td>SC</td>\n",
              "      <td>7370426</td>\n",
              "      <td>MZ C CS 02 CONJ. TEQUENDAMA</td>\n",
              "      <td>NaN</td>\n",
              "      <td>None</td>\n",
              "      <td>None</td>\n",
              "      <td>None</td>\n",
              "      <td>None</td>\n",
              "    </tr>\n",
              "    <tr>\n",
              "      <th>2</th>\n",
              "      <td>5</td>\n",
              "      <td>2017-02-06 16:45:10.072257</td>\n",
              "      <td>Confirmada</td>\n",
              "      <td>SC</td>\n",
              "      <td>1508</td>\n",
              "      <td>TORRE ANDINA</td>\n",
              "      <td>NaN</td>\n",
              "      <td>None</td>\n",
              "      <td>Avenida Boyaca</td>\n",
              "      <td>None</td>\n",
              "      <td>None</td>\n",
              "    </tr>\n",
              "    <tr>\n",
              "      <th>3</th>\n",
              "      <td>8</td>\n",
              "      <td>2017-02-06 16:48:26.053794</td>\n",
              "      <td>Confirmada fuera de tiempo</td>\n",
              "      <td>SC</td>\n",
              "      <td>7316085</td>\n",
              "      <td>Carrera 43  16C 25 REFUGIO VALLE DE ATRIZ ♠♦</td>\n",
              "      <td>1.224355</td>\n",
              "      <td>-77.2903005</td>\n",
              "      <td>None</td>\n",
              "      <td>None</td>\n",
              "      <td>None</td>\n",
              "    </tr>\n",
              "    <tr>\n",
              "      <th>4</th>\n",
              "      <td>19</td>\n",
              "      <td>2017-02-06 17:03:48.711795</td>\n",
              "      <td>Confirmada</td>\n",
              "      <td>SC</td>\n",
              "      <td>7370509</td>\n",
              "      <td>Calle 19 D # 43 - 82 PORTAL VALLE DE ATRIZ</td>\n",
              "      <td>1.230575</td>\n",
              "      <td>-77.2876999</td>\n",
              "      <td>Valle De Atriz</td>\n",
              "      <td>None</td>\n",
              "      <td>None</td>\n",
              "    </tr>\n",
              "    <tr>\n",
              "      <th>...</th>\n",
              "      <td>...</td>\n",
              "      <td>...</td>\n",
              "      <td>...</td>\n",
              "      <td>...</td>\n",
              "      <td>...</td>\n",
              "      <td>...</td>\n",
              "      <td>...</td>\n",
              "      <td>...</td>\n",
              "      <td>...</td>\n",
              "      <td>...</td>\n",
              "      <td>...</td>\n",
              "    </tr>\n",
              "    <tr>\n",
              "      <th>2436910</th>\n",
              "      <td>2437153</td>\n",
              "      <td>2020-08-18 23:31:33.353695</td>\n",
              "      <td>Activa</td>\n",
              "      <td>SC</td>\n",
              "      <td>3006026575</td>\n",
              "      <td>Manzana 37 cs 14 cha</td>\n",
              "      <td>NaN</td>\n",
              "      <td>None</td>\n",
              "      <td>None</td>\n",
              "      <td>None</td>\n",
              "      <td>None</td>\n",
              "    </tr>\n",
              "    <tr>\n",
              "      <th>2436911</th>\n",
              "      <td>2437154</td>\n",
              "      <td>2020-08-18 23:33:26.070070</td>\n",
              "      <td>Activa</td>\n",
              "      <td>SC</td>\n",
              "      <td>3188443434</td>\n",
              "      <td>c  15 23 47</td>\n",
              "      <td>NaN</td>\n",
              "      <td>None</td>\n",
              "      <td>None</td>\n",
              "      <td>None</td>\n",
              "      <td>None</td>\n",
              "    </tr>\n",
              "    <tr>\n",
              "      <th>2436912</th>\n",
              "      <td>2437160</td>\n",
              "      <td>2020-08-18 23:35:13.100688</td>\n",
              "      <td>Activa</td>\n",
              "      <td>SC</td>\n",
              "      <td>3164903341</td>\n",
              "      <td>Calle 16 # 16a - 67</td>\n",
              "      <td>NaN</td>\n",
              "      <td>None</td>\n",
              "      <td>None</td>\n",
              "      <td>None</td>\n",
              "      <td>None</td>\n",
              "    </tr>\n",
              "    <tr>\n",
              "      <th>2436913</th>\n",
              "      <td>2437183</td>\n",
              "      <td>2020-08-19 00:08:21.578043</td>\n",
              "      <td>Activa</td>\n",
              "      <td>SC</td>\n",
              "      <td>3162427945</td>\n",
              "      <td>Carrera 47  17 23 HOTEL CAFÉ Y MIEL</td>\n",
              "      <td>NaN</td>\n",
              "      <td>None</td>\n",
              "      <td>Universitario</td>\n",
              "      <td>None</td>\n",
              "      <td>None</td>\n",
              "    </tr>\n",
              "    <tr>\n",
              "      <th>2436914</th>\n",
              "      <td>2437189</td>\n",
              "      <td>2020-08-19 00:15:28.263735</td>\n",
              "      <td>Activa</td>\n",
              "      <td>SC</td>\n",
              "      <td>3155544196</td>\n",
              "      <td>Carrera 33 15 22</td>\n",
              "      <td>NaN</td>\n",
              "      <td>None</td>\n",
              "      <td>None</td>\n",
              "      <td>None</td>\n",
              "      <td>None</td>\n",
              "    </tr>\n",
              "  </tbody>\n",
              "</table>\n",
              "<p>2436915 rows × 11 columns</p>\n",
              "</div>"
            ],
            "text/plain": [
              "              id                      fecha  ... nombres genero\n",
              "0              2 2017-02-06 16:43:35.662873  ...    None   None\n",
              "1              4 2017-02-06 16:44:43.138051  ...    None   None\n",
              "2              5 2017-02-06 16:45:10.072257  ...    None   None\n",
              "3              8 2017-02-06 16:48:26.053794  ...    None   None\n",
              "4             19 2017-02-06 17:03:48.711795  ...    None   None\n",
              "...          ...                        ...  ...     ...    ...\n",
              "2436910  2437153 2020-08-18 23:31:33.353695  ...    None   None\n",
              "2436911  2437154 2020-08-18 23:33:26.070070  ...    None   None\n",
              "2436912  2437160 2020-08-18 23:35:13.100688  ...    None   None\n",
              "2436913  2437183 2020-08-19 00:08:21.578043  ...    None   None\n",
              "2436914  2437189 2020-08-19 00:15:28.263735  ...    None   None\n",
              "\n",
              "[2436915 rows x 11 columns]"
            ]
          },
          "metadata": {
            "tags": []
          },
          "execution_count": 8
        }
      ]
    },
    {
      "cell_type": "code",
      "metadata": {
        "id": "kpo7mPvvbB5G"
      },
      "source": [
        "df_taxisrcp.replace('nan',np.NaN,inplace=True)\n",
        "df_taxisrcp.replace('None',np.NaN,inplace=True)"
      ],
      "execution_count": 13,
      "outputs": []
    },
    {
      "cell_type": "code",
      "metadata": {
        "id": "lYayX-FIF51J",
        "outputId": "43af4d4c-77cc-4604-8b94-792abb5f0dc9",
        "colab": {
          "base_uri": "https://localhost:8080/",
          "height": 595
        }
      },
      "source": [
        "df_taxisrcp.info()\n",
        "df_taxisrcp.head()"
      ],
      "execution_count": 14,
      "outputs": [
        {
          "output_type": "stream",
          "text": [
            "<class 'pandas.core.frame.DataFrame'>\n",
            "RangeIndex: 2436915 entries, 0 to 2436914\n",
            "Data columns (total 11 columns):\n",
            " #   Column         Dtype         \n",
            "---  ------         -----         \n",
            " 0   id             int64         \n",
            " 1   fecha          datetime64[ns]\n",
            " 2   estado         category      \n",
            " 3   tipo_servicio  category      \n",
            " 4   directorio     object        \n",
            " 5   direccion      object        \n",
            " 6   latitud        float64       \n",
            " 7   longitud       float64       \n",
            " 8   barrio         object        \n",
            " 9   nombres        object        \n",
            " 10  genero         category      \n",
            "dtypes: category(3), datetime64[ns](1), float64(2), int64(1), object(4)\n",
            "memory usage: 155.7+ MB\n"
          ],
          "name": "stdout"
        },
        {
          "output_type": "execute_result",
          "data": {
            "text/html": [
              "<div>\n",
              "<style scoped>\n",
              "    .dataframe tbody tr th:only-of-type {\n",
              "        vertical-align: middle;\n",
              "    }\n",
              "\n",
              "    .dataframe tbody tr th {\n",
              "        vertical-align: top;\n",
              "    }\n",
              "\n",
              "    .dataframe thead th {\n",
              "        text-align: right;\n",
              "    }\n",
              "</style>\n",
              "<table border=\"1\" class=\"dataframe\">\n",
              "  <thead>\n",
              "    <tr style=\"text-align: right;\">\n",
              "      <th></th>\n",
              "      <th>id</th>\n",
              "      <th>fecha</th>\n",
              "      <th>estado</th>\n",
              "      <th>tipo_servicio</th>\n",
              "      <th>directorio</th>\n",
              "      <th>direccion</th>\n",
              "      <th>latitud</th>\n",
              "      <th>longitud</th>\n",
              "      <th>barrio</th>\n",
              "      <th>nombres</th>\n",
              "      <th>genero</th>\n",
              "    </tr>\n",
              "  </thead>\n",
              "  <tbody>\n",
              "    <tr>\n",
              "      <th>0</th>\n",
              "      <td>2</td>\n",
              "      <td>2017-02-06 16:43:35.662873</td>\n",
              "      <td>Activa</td>\n",
              "      <td>SC</td>\n",
              "      <td>1342</td>\n",
              "      <td>Calle 16 # 37 - 47 Las Margaritas</td>\n",
              "      <td>1.220376</td>\n",
              "      <td>-77.286333</td>\n",
              "      <td>Las Margaritas</td>\n",
              "      <td>None</td>\n",
              "      <td>NaN</td>\n",
              "    </tr>\n",
              "    <tr>\n",
              "      <th>1</th>\n",
              "      <td>4</td>\n",
              "      <td>2017-02-06 16:44:43.138051</td>\n",
              "      <td>Activa</td>\n",
              "      <td>SC</td>\n",
              "      <td>7370426</td>\n",
              "      <td>MZ C CS 02 CONJ. TEQUENDAMA</td>\n",
              "      <td>NaN</td>\n",
              "      <td>NaN</td>\n",
              "      <td>None</td>\n",
              "      <td>None</td>\n",
              "      <td>NaN</td>\n",
              "    </tr>\n",
              "    <tr>\n",
              "      <th>2</th>\n",
              "      <td>5</td>\n",
              "      <td>2017-02-06 16:45:10.072257</td>\n",
              "      <td>Confirmada</td>\n",
              "      <td>SC</td>\n",
              "      <td>1508</td>\n",
              "      <td>TORRE ANDINA</td>\n",
              "      <td>NaN</td>\n",
              "      <td>NaN</td>\n",
              "      <td>Avenida Boyaca</td>\n",
              "      <td>None</td>\n",
              "      <td>NaN</td>\n",
              "    </tr>\n",
              "    <tr>\n",
              "      <th>3</th>\n",
              "      <td>8</td>\n",
              "      <td>2017-02-06 16:48:26.053794</td>\n",
              "      <td>Confirmada fuera de tiempo</td>\n",
              "      <td>SC</td>\n",
              "      <td>7316085</td>\n",
              "      <td>Carrera 43  16C 25 REFUGIO VALLE DE ATRIZ ♠♦</td>\n",
              "      <td>1.224355</td>\n",
              "      <td>-77.290301</td>\n",
              "      <td>None</td>\n",
              "      <td>None</td>\n",
              "      <td>NaN</td>\n",
              "    </tr>\n",
              "    <tr>\n",
              "      <th>4</th>\n",
              "      <td>19</td>\n",
              "      <td>2017-02-06 17:03:48.711795</td>\n",
              "      <td>Confirmada</td>\n",
              "      <td>SC</td>\n",
              "      <td>7370509</td>\n",
              "      <td>Calle 19 D # 43 - 82 PORTAL VALLE DE ATRIZ</td>\n",
              "      <td>1.230575</td>\n",
              "      <td>-77.287700</td>\n",
              "      <td>Valle De Atriz</td>\n",
              "      <td>None</td>\n",
              "      <td>NaN</td>\n",
              "    </tr>\n",
              "  </tbody>\n",
              "</table>\n",
              "</div>"
            ],
            "text/plain": [
              "   id                      fecha  ... nombres genero\n",
              "0   2 2017-02-06 16:43:35.662873  ...    None    NaN\n",
              "1   4 2017-02-06 16:44:43.138051  ...    None    NaN\n",
              "2   5 2017-02-06 16:45:10.072257  ...    None    NaN\n",
              "3   8 2017-02-06 16:48:26.053794  ...    None    NaN\n",
              "4  19 2017-02-06 17:03:48.711795  ...    None    NaN\n",
              "\n",
              "[5 rows x 11 columns]"
            ]
          },
          "metadata": {
            "tags": []
          },
          "execution_count": 14
        }
      ]
    },
    {
      "cell_type": "markdown",
      "metadata": {
        "id": "KjNk2hpHW5Hu"
      },
      "source": [
        "The output shows that we have around 2.4 million entries with 10 columns. There are some columns with null values. The data type of columns have the same type so we need to to set up the correct data type."
      ]
    },
    {
      "cell_type": "markdown",
      "metadata": {
        "id": "CYTN1Bga_aNX"
      },
      "source": [
        "# **Setting the data types correctly**"
      ]
    },
    {
      "cell_type": "code",
      "metadata": {
        "id": "0E1L8Rch_OKP"
      },
      "source": [
        "df_taxisrcp['fecha'] = pd.to_datetime(df_taxisrcp['fecha'])\n",
        "df_taxisrcp['estado'] = df_taxisrcp['estado'].astype('category')\n",
        "df_taxisrcp['tipo_servicio'] = df_taxisrcp['tipo_servicio'].astype('category')\n",
        "df_taxisrcp['latitud'] = df_taxisrcp['latitud'].astype('float64')\n",
        "df_taxisrcp['longitud'] = df_taxisrcp['longitud'].astype('float64')\n",
        "df_taxisrcp['genero'] = df_taxisrcp['genero'].astype('category')"
      ],
      "execution_count": 15,
      "outputs": []
    },
    {
      "cell_type": "code",
      "metadata": {
        "id": "ah5JPV85_vKc",
        "outputId": "0e0baa80-1b61-47f9-a5f8-c558f827f462",
        "colab": {
          "base_uri": "https://localhost:8080/",
          "height": 595
        }
      },
      "source": [
        "df_taxisrcp.info()\n",
        "df_taxisrcp.head()"
      ],
      "execution_count": 16,
      "outputs": [
        {
          "output_type": "stream",
          "text": [
            "<class 'pandas.core.frame.DataFrame'>\n",
            "RangeIndex: 2436915 entries, 0 to 2436914\n",
            "Data columns (total 11 columns):\n",
            " #   Column         Dtype         \n",
            "---  ------         -----         \n",
            " 0   id             int64         \n",
            " 1   fecha          datetime64[ns]\n",
            " 2   estado         category      \n",
            " 3   tipo_servicio  category      \n",
            " 4   directorio     object        \n",
            " 5   direccion      object        \n",
            " 6   latitud        float64       \n",
            " 7   longitud       float64       \n",
            " 8   barrio         object        \n",
            " 9   nombres        object        \n",
            " 10  genero         category      \n",
            "dtypes: category(3), datetime64[ns](1), float64(2), int64(1), object(4)\n",
            "memory usage: 155.7+ MB\n"
          ],
          "name": "stdout"
        },
        {
          "output_type": "execute_result",
          "data": {
            "text/html": [
              "<div>\n",
              "<style scoped>\n",
              "    .dataframe tbody tr th:only-of-type {\n",
              "        vertical-align: middle;\n",
              "    }\n",
              "\n",
              "    .dataframe tbody tr th {\n",
              "        vertical-align: top;\n",
              "    }\n",
              "\n",
              "    .dataframe thead th {\n",
              "        text-align: right;\n",
              "    }\n",
              "</style>\n",
              "<table border=\"1\" class=\"dataframe\">\n",
              "  <thead>\n",
              "    <tr style=\"text-align: right;\">\n",
              "      <th></th>\n",
              "      <th>id</th>\n",
              "      <th>fecha</th>\n",
              "      <th>estado</th>\n",
              "      <th>tipo_servicio</th>\n",
              "      <th>directorio</th>\n",
              "      <th>direccion</th>\n",
              "      <th>latitud</th>\n",
              "      <th>longitud</th>\n",
              "      <th>barrio</th>\n",
              "      <th>nombres</th>\n",
              "      <th>genero</th>\n",
              "    </tr>\n",
              "  </thead>\n",
              "  <tbody>\n",
              "    <tr>\n",
              "      <th>0</th>\n",
              "      <td>2</td>\n",
              "      <td>2017-02-06 16:43:35.662873</td>\n",
              "      <td>Activa</td>\n",
              "      <td>SC</td>\n",
              "      <td>1342</td>\n",
              "      <td>Calle 16 # 37 - 47 Las Margaritas</td>\n",
              "      <td>1.220376</td>\n",
              "      <td>-77.286333</td>\n",
              "      <td>Las Margaritas</td>\n",
              "      <td>None</td>\n",
              "      <td>NaN</td>\n",
              "    </tr>\n",
              "    <tr>\n",
              "      <th>1</th>\n",
              "      <td>4</td>\n",
              "      <td>2017-02-06 16:44:43.138051</td>\n",
              "      <td>Activa</td>\n",
              "      <td>SC</td>\n",
              "      <td>7370426</td>\n",
              "      <td>MZ C CS 02 CONJ. TEQUENDAMA</td>\n",
              "      <td>NaN</td>\n",
              "      <td>NaN</td>\n",
              "      <td>None</td>\n",
              "      <td>None</td>\n",
              "      <td>NaN</td>\n",
              "    </tr>\n",
              "    <tr>\n",
              "      <th>2</th>\n",
              "      <td>5</td>\n",
              "      <td>2017-02-06 16:45:10.072257</td>\n",
              "      <td>Confirmada</td>\n",
              "      <td>SC</td>\n",
              "      <td>1508</td>\n",
              "      <td>TORRE ANDINA</td>\n",
              "      <td>NaN</td>\n",
              "      <td>NaN</td>\n",
              "      <td>Avenida Boyaca</td>\n",
              "      <td>None</td>\n",
              "      <td>NaN</td>\n",
              "    </tr>\n",
              "    <tr>\n",
              "      <th>3</th>\n",
              "      <td>8</td>\n",
              "      <td>2017-02-06 16:48:26.053794</td>\n",
              "      <td>Confirmada fuera de tiempo</td>\n",
              "      <td>SC</td>\n",
              "      <td>7316085</td>\n",
              "      <td>Carrera 43  16C 25 REFUGIO VALLE DE ATRIZ ♠♦</td>\n",
              "      <td>1.224355</td>\n",
              "      <td>-77.290301</td>\n",
              "      <td>None</td>\n",
              "      <td>None</td>\n",
              "      <td>NaN</td>\n",
              "    </tr>\n",
              "    <tr>\n",
              "      <th>4</th>\n",
              "      <td>19</td>\n",
              "      <td>2017-02-06 17:03:48.711795</td>\n",
              "      <td>Confirmada</td>\n",
              "      <td>SC</td>\n",
              "      <td>7370509</td>\n",
              "      <td>Calle 19 D # 43 - 82 PORTAL VALLE DE ATRIZ</td>\n",
              "      <td>1.230575</td>\n",
              "      <td>-77.287700</td>\n",
              "      <td>Valle De Atriz</td>\n",
              "      <td>None</td>\n",
              "      <td>NaN</td>\n",
              "    </tr>\n",
              "  </tbody>\n",
              "</table>\n",
              "</div>"
            ],
            "text/plain": [
              "   id                      fecha  ... nombres genero\n",
              "0   2 2017-02-06 16:43:35.662873  ...    None    NaN\n",
              "1   4 2017-02-06 16:44:43.138051  ...    None    NaN\n",
              "2   5 2017-02-06 16:45:10.072257  ...    None    NaN\n",
              "3   8 2017-02-06 16:48:26.053794  ...    None    NaN\n",
              "4  19 2017-02-06 17:03:48.711795  ...    None    NaN\n",
              "\n",
              "[5 rows x 11 columns]"
            ]
          },
          "metadata": {
            "tags": []
          },
          "execution_count": 16
        }
      ]
    },
    {
      "cell_type": "markdown",
      "metadata": {
        "id": "Qp5bdM7UgkX3"
      },
      "source": [
        "# **Missing values and Duplicated Entries**"
      ]
    },
    {
      "cell_type": "code",
      "metadata": {
        "id": "Zi70MnyMtlDy",
        "outputId": "fbf61a0e-217e-4383-d994-380a2d7fa116",
        "colab": {
          "base_uri": "https://localhost:8080/",
          "height": 221
        }
      },
      "source": [
        "df_taxisrcp.isna().sum()"
      ],
      "execution_count": 17,
      "outputs": [
        {
          "output_type": "execute_result",
          "data": {
            "text/plain": [
              "id                     0\n",
              "fecha                  0\n",
              "estado                 0\n",
              "tipo_servicio          0\n",
              "directorio            74\n",
              "direccion           2064\n",
              "latitud          1897029\n",
              "longitud         1897029\n",
              "barrio           1509617\n",
              "nombres          2431279\n",
              "genero           2433075\n",
              "dtype: int64"
            ]
          },
          "metadata": {
            "tags": []
          },
          "execution_count": 17
        }
      ]
    },
    {
      "cell_type": "code",
      "metadata": {
        "id": "S_c0ZcSngeLd",
        "outputId": "847a94f0-dff9-4947-cce0-b448e1c6a562",
        "colab": {
          "base_uri": "https://localhost:8080/",
          "height": 555
        }
      },
      "source": [
        "if len(df_taxisrcp[df_taxisrcp.isnull().any(axis=1)] != 0):\n",
        "  missingno.matrix(df_taxisrcp)\n",
        "  plt.show()"
      ],
      "execution_count": 18,
      "outputs": [
        {
          "output_type": "display_data",
          "data": {
            "image/png": "[encoded data removed]",
            "text/plain": [
              "<Figure size 1800x720 with 2 Axes>"
            ]
          },
          "metadata": {
            "tags": [],
            "needs_background": "light"
          }
        }
      ]
    },
    {
      "cell_type": "markdown",
      "metadata": {
        "id": "sauH2jLfjzsL"
      },
      "source": [
        ""
      ]
    },
    {
      "cell_type": "code",
      "metadata": {
        "id": "Zy54p-2rj0O8",
        "outputId": "78348480-7328-4b7f-ffdd-4199044e02ae",
        "colab": {
          "base_uri": "https://localhost:8080/",
          "height": 642
        }
      },
      "source": [
        "missingno.bar(df_taxisrcp)"
      ],
      "execution_count": 19,
      "outputs": [
        {
          "output_type": "execute_result",
          "data": {
            "text/plain": [
              "<matplotlib.axes._subplots.AxesSubplot at 0x7f617a6c84a8>"
            ]
          },
          "metadata": {
            "tags": []
          },
          "execution_count": 19
        },
        {
          "output_type": "display_data",
          "data": {
            "image/png": "[encoded data removed]",
            "text/plain": [
              "<Figure size 1728x720 with 3 Axes>"
            ]
          },
          "metadata": {
            "tags": [],
            "needs_background": "light"
          }
        }
      ]
    },
    {
      "cell_type": "code",
      "metadata": {
        "id": "INjYuuy_kPx3",
        "outputId": "f6aa5425-6069-40ad-9ffd-c5747e082a1b",
        "colab": {
          "base_uri": "https://localhost:8080/",
          "height": 51
        }
      },
      "source": [
        "# generate count statistics of duplicate entries\n",
        "if len(df_taxisrcp[df_taxisrcp.duplicated()]) > 0:\n",
        "  print(\"\\n***Number of duplicated entries: \", len(df_taxisrcp[df_taxisrcp.duplicated()]))\n",
        "  display(df_taxisrcp[df_taxisrcp.duplicated(keep=False)].sort_values(by=list(df_taxisrcp.columns)).head())\n",
        "else:\n",
        "  print(\"\\nNo duplicated entries found\")\n"
      ],
      "execution_count": 20,
      "outputs": [
        {
          "output_type": "stream",
          "text": [
            "\n",
            "No duplicated entries found\n"
          ],
          "name": "stdout"
        }
      ]
    },
    {
      "cell_type": "markdown",
      "metadata": {
        "id": "ezmgasNJAUSo"
      },
      "source": [
        "Drop rows with direccion values null"
      ]
    },
    {
      "cell_type": "code",
      "metadata": {
        "id": "B-YguVYgyVrO"
      },
      "source": [
        "df_test = df_taxisrcp[df_taxisrcp['direccion'].isnull()].copy()\n"
      ],
      "execution_count": 21,
      "outputs": []
    },
    {
      "cell_type": "code",
      "metadata": {
        "id": "s5DLDNy2iTha"
      },
      "source": [
        "df_taxisrcp.dropna(subset=['direccion'],inplace=True)"
      ],
      "execution_count": 22,
      "outputs": []
    },
    {
      "cell_type": "code",
      "metadata": {
        "id": "x-3l9JsgAos_",
        "outputId": "2fbd9c0f-4e17-4769-e6f8-cfd60fe341b3",
        "colab": {
          "base_uri": "https://localhost:8080/",
          "height": 221
        }
      },
      "source": [
        "df_taxisrcp.isna().sum()"
      ],
      "execution_count": 23,
      "outputs": [
        {
          "output_type": "execute_result",
          "data": {
            "text/plain": [
              "id                     0\n",
              "fecha                  0\n",
              "estado                 0\n",
              "tipo_servicio          0\n",
              "directorio            10\n",
              "direccion              0\n",
              "latitud          1894965\n",
              "longitud         1894965\n",
              "barrio           1507553\n",
              "nombres          2431011\n",
              "genero           2431011\n",
              "dtype: int64"
            ]
          },
          "metadata": {
            "tags": []
          },
          "execution_count": 23
        }
      ]
    },
    {
      "cell_type": "code",
      "metadata": {
        "id": "n0lmR0HrBMST",
        "outputId": "bea6141a-8a16-4198-bf03-ba6f97eab0a4",
        "colab": {
          "base_uri": "https://localhost:8080/",
          "height": 34
        }
      },
      "source": [
        "df.shape"
      ],
      "execution_count": 24,
      "outputs": [
        {
          "output_type": "execute_result",
          "data": {
            "text/plain": [
              "(2436915, 11)"
            ]
          },
          "metadata": {
            "tags": []
          },
          "execution_count": 24
        }
      ]
    },
    {
      "cell_type": "code",
      "metadata": {
        "id": "CgfEXCiuBTIl"
      },
      "source": [
        "df_latlon = df_taxisrcp.dropna(subset=['latitud','longitud'])\n"
      ],
      "execution_count": 25,
      "outputs": []
    },
    {
      "cell_type": "markdown",
      "metadata": {
        "id": "ou7VzsA24ETC"
      },
      "source": [
        "-----------------"
      ]
    },
    {
      "cell_type": "code",
      "metadata": {
        "id": "SlymEwBeCKs_",
        "outputId": "5f0559a9-a6ce-4ce8-dd87-0c1daaa1a3e3",
        "colab": {
          "base_uri": "https://localhost:8080/",
          "height": 221
        }
      },
      "source": [
        "df_latlon.isna().sum()"
      ],
      "execution_count": 26,
      "outputs": [
        {
          "output_type": "execute_result",
          "data": {
            "text/plain": [
              "id                    0\n",
              "fecha                 0\n",
              "estado                0\n",
              "tipo_servicio         0\n",
              "directorio           10\n",
              "direccion             0\n",
              "latitud               0\n",
              "longitud              0\n",
              "barrio            56708\n",
              "nombres          537145\n",
              "genero           537145\n",
              "dtype: int64"
            ]
          },
          "metadata": {
            "tags": []
          },
          "execution_count": 26
        }
      ]
    },
    {
      "cell_type": "code",
      "metadata": {
        "id": "3Zz38k8kGCup",
        "outputId": "cd55f8f3-cb9b-437a-94c4-3b09aa89e7fe",
        "colab": {
          "base_uri": "https://localhost:8080/",
          "height": 34
        }
      },
      "source": [
        "df_latlon.shape"
      ],
      "execution_count": 27,
      "outputs": [
        {
          "output_type": "execute_result",
          "data": {
            "text/plain": [
              "(539886, 11)"
            ]
          },
          "metadata": {
            "tags": []
          },
          "execution_count": 27
        }
      ]
    },
    {
      "cell_type": "markdown",
      "metadata": {
        "id": "9cfTkX1sut4Z"
      },
      "source": [
        "# **Detecting outliers**"
      ]
    },
    {
      "cell_type": "code",
      "metadata": {
        "id": "FyRDnBPSEEEg",
        "outputId": "b497f03e-ea05-4fc1-cc59-23bb1e191782",
        "colab": {
          "base_uri": "https://localhost:8080/",
          "height": 182
        }
      },
      "source": [
        "coords = taxi_gdf[['latitud', 'longitud']]\n",
        "coords[:5]"
      ],
      "execution_count": 28,
      "outputs": [
        {
          "output_type": "error",
          "ename": "NameError",
          "evalue": "ignored",
          "traceback": [
            "\u001b[0;31m---------------------------------------------------------------------------\u001b[0m",
            "\u001b[0;31mNameError\u001b[0m                                 Traceback (most recent call last)",
            "\u001b[0;32m<ipython-input-28-5434f444245c>\u001b[0m in \u001b[0;36m<module>\u001b[0;34m()\u001b[0m\n\u001b[0;32m----> 1\u001b[0;31m \u001b[0mcoords\u001b[0m \u001b[0;34m=\u001b[0m \u001b[0mtaxi_gdf\u001b[0m\u001b[0;34m[\u001b[0m\u001b[0;34m[\u001b[0m\u001b[0;34m'latitud'\u001b[0m\u001b[0;34m,\u001b[0m \u001b[0;34m'longitud'\u001b[0m\u001b[0;34m]\u001b[0m\u001b[0;34m]\u001b[0m\u001b[0;34m\u001b[0m\u001b[0;34m\u001b[0m\u001b[0m\n\u001b[0m\u001b[1;32m      2\u001b[0m \u001b[0mcoords\u001b[0m\u001b[0;34m[\u001b[0m\u001b[0;34m:\u001b[0m\u001b[0;36m5\u001b[0m\u001b[0;34m]\u001b[0m\u001b[0;34m\u001b[0m\u001b[0;34m\u001b[0m\u001b[0m\n",
            "\u001b[0;31mNameError\u001b[0m: name 'taxi_gdf' is not defined"
          ]
        }
      ]
    },
    {
      "cell_type": "code",
      "metadata": {
        "id": "SUrcXh19ENUg",
        "outputId": "a1a9eb32-3fc7-4b44-8fd3-c6f6130eb6a4",
        "colab": {
          "base_uri": "https://localhost:8080/",
          "height": 182
        }
      },
      "source": [
        "# Get labels of each cluster \n",
        "_, labels  = dbscan(taxi_gdf[['latitud', 'longitud']], eps=0.1, min_samples=10)"
      ],
      "execution_count": 29,
      "outputs": [
        {
          "output_type": "error",
          "ename": "NameError",
          "evalue": "ignored",
          "traceback": [
            "\u001b[0;31m---------------------------------------------------------------------------\u001b[0m",
            "\u001b[0;31mNameError\u001b[0m                                 Traceback (most recent call last)",
            "\u001b[0;32m<ipython-input-29-6d1da7a51569>\u001b[0m in \u001b[0;36m<module>\u001b[0;34m()\u001b[0m\n\u001b[1;32m      1\u001b[0m \u001b[0;31m# Get labels of each cluster\u001b[0m\u001b[0;34m\u001b[0m\u001b[0;34m\u001b[0m\u001b[0;34m\u001b[0m\u001b[0m\n\u001b[0;32m----> 2\u001b[0;31m \u001b[0m_\u001b[0m\u001b[0;34m,\u001b[0m \u001b[0mlabels\u001b[0m  \u001b[0;34m=\u001b[0m \u001b[0mdbscan\u001b[0m\u001b[0;34m(\u001b[0m\u001b[0mtaxi_gdf\u001b[0m\u001b[0;34m[\u001b[0m\u001b[0;34m[\u001b[0m\u001b[0;34m'latitud'\u001b[0m\u001b[0;34m,\u001b[0m \u001b[0;34m'longitud'\u001b[0m\u001b[0;34m]\u001b[0m\u001b[0;34m]\u001b[0m\u001b[0;34m,\u001b[0m \u001b[0meps\u001b[0m\u001b[0;34m=\u001b[0m\u001b[0;36m0.1\u001b[0m\u001b[0;34m,\u001b[0m \u001b[0mmin_samples\u001b[0m\u001b[0;34m=\u001b[0m\u001b[0;36m10\u001b[0m\u001b[0;34m)\u001b[0m\u001b[0;34m\u001b[0m\u001b[0;34m\u001b[0m\u001b[0m\n\u001b[0m",
            "\u001b[0;31mNameError\u001b[0m: name 'taxi_gdf' is not defined"
          ]
        }
      ]
    },
    {
      "cell_type": "code",
      "metadata": {
        "id": "FvBV1ByeESTO",
        "outputId": "e3e38cec-9fb0-4d46-98fa-f1b2df8aa09e",
        "colab": {
          "base_uri": "https://localhost:8080/",
          "height": 197
        }
      },
      "source": [
        "# Create a labels dataframe with the index of the dataset\n",
        "labels_df = pd.DataFrame(labels, index=taxi_gdf.index, columns=['cluster'])\n",
        "labels_df.head()"
      ],
      "execution_count": null,
      "outputs": [
        {
          "output_type": "error",
          "ename": "NameError",
          "evalue": "ignored",
          "traceback": [
            "\u001b[0;31m---------------------------------------------------------------------------\u001b[0m",
            "\u001b[0;31mNameError\u001b[0m                                 Traceback (most recent call last)",
            "\u001b[0;32m<ipython-input-25-45b3b09a251d>\u001b[0m in \u001b[0;36m<module>\u001b[0;34m()\u001b[0m\n\u001b[1;32m      1\u001b[0m \u001b[0;31m# Create a labels dataframe with the index of the dataset\u001b[0m\u001b[0;34m\u001b[0m\u001b[0;34m\u001b[0m\u001b[0;34m\u001b[0m\u001b[0m\n\u001b[0;32m----> 2\u001b[0;31m \u001b[0mlabels_df\u001b[0m \u001b[0;34m=\u001b[0m \u001b[0mpd\u001b[0m\u001b[0;34m.\u001b[0m\u001b[0mDataFrame\u001b[0m\u001b[0;34m(\u001b[0m\u001b[0mlabels\u001b[0m\u001b[0;34m,\u001b[0m \u001b[0mindex\u001b[0m\u001b[0;34m=\u001b[0m\u001b[0mtaxi_gdf\u001b[0m\u001b[0;34m.\u001b[0m\u001b[0mindex\u001b[0m\u001b[0;34m,\u001b[0m \u001b[0mcolumns\u001b[0m\u001b[0;34m=\u001b[0m\u001b[0;34m[\u001b[0m\u001b[0;34m'cluster'\u001b[0m\u001b[0;34m]\u001b[0m\u001b[0;34m)\u001b[0m\u001b[0;34m\u001b[0m\u001b[0;34m\u001b[0m\u001b[0m\n\u001b[0m\u001b[1;32m      3\u001b[0m \u001b[0mlabels_df\u001b[0m\u001b[0;34m.\u001b[0m\u001b[0mhead\u001b[0m\u001b[0;34m(\u001b[0m\u001b[0;34m)\u001b[0m\u001b[0;34m\u001b[0m\u001b[0;34m\u001b[0m\u001b[0m\n",
            "\u001b[0;31mNameError\u001b[0m: name 'labels' is not defined"
          ]
        }
      ]
    },
    {
      "cell_type": "code",
      "metadata": {
        "id": "ivrk5K5UEb-f"
      },
      "source": [
        "labels_df.groupby('cluster').size()"
      ],
      "execution_count": null,
      "outputs": []
    },
    {
      "cell_type": "markdown",
      "metadata": {
        "id": "5ICisAU4zZBS"
      },
      "source": [
        "# **Categorical data analysis**"
      ]
    },
    {
      "cell_type": "markdown",
      "metadata": {
        "id": "dZLY698t6dl3"
      },
      "source": [
        ""
      ]
    },
    {
      "cell_type": "code",
      "metadata": {
        "id": "Ay_5vbgHzYQ9",
        "outputId": "8ca378f1-58ee-4a18-d253-ae1147288373",
        "colab": {
          "base_uri": "https://localhost:8080/",
          "height": 85
        }
      },
      "source": [
        "df_taxisrcp.select_dtypes(include=['category']).nunique()"
      ],
      "execution_count": 30,
      "outputs": [
        {
          "output_type": "execute_result",
          "data": {
            "text/plain": [
              "estado           5\n",
              "tipo_servicio    4\n",
              "genero           2\n",
              "dtype: int64"
            ]
          },
          "metadata": {
            "tags": []
          },
          "execution_count": 30
        }
      ]
    },
    {
      "cell_type": "code",
      "metadata": {
        "id": "-BJwSwgV2Buk",
        "outputId": "71e74b2e-92cd-4c64-e340-8ab59e6a6b6b",
        "colab": {
          "base_uri": "https://localhost:8080/",
          "height": 357
        }
      },
      "source": [
        "columns = df_taxisrcp.select_dtypes(include=[ 'category']).columns\n",
        "for col in columns:\n",
        "    print(\"Unique values of \" + col)\n",
        "    print(df_taxisrcp[col].value_counts().reset_index().rename(columns={\"index\": col, col: \"Count\"}))\n",
        "    print(\"\")"
      ],
      "execution_count": 31,
      "outputs": [
        {
          "output_type": "stream",
          "text": [
            "Unique values of estado\n",
            "                       estado   Count\n",
            "0                  Confirmada  944040\n",
            "1  Confirmada fuera de tiempo  654552\n",
            "2                      Activa  433976\n",
            "3                    Generada  383428\n",
            "4                   Cancelada   18855\n",
            "\n",
            "Unique values of tipo_servicio\n",
            "  tipo_servicio    Count\n",
            "0            SC  2432762\n",
            "1           SEU     1714\n",
            "2           SEA      339\n",
            "3           SEI       36\n",
            "\n",
            "Unique values of genero\n",
            "  genero  Count\n",
            "0      M   3743\n",
            "1      F     97\n",
            "\n"
          ],
          "name": "stdout"
        }
      ]
    },
    {
      "cell_type": "code",
      "metadata": {
        "id": "Jz9svPiC0imO",
        "outputId": "37784130-6226-4baf-e760-56f71e800252",
        "colab": {
          "base_uri": "https://localhost:8080/",
          "height": 531
        }
      },
      "source": [
        "print('Estado')\n",
        "fig = sns.catplot(x='estado', kind=\"count\", data=df_taxisrcp)\n",
        "fig.set_xticklabels(rotation=90)\n",
        "plt.show()  \n",
        "    "
      ],
      "execution_count": 32,
      "outputs": [
        {
          "output_type": "stream",
          "text": [
            "Estado\n"
          ],
          "name": "stdout"
        },
        {
          "output_type": "display_data",
          "data": {
            "image/png": "[encoded data removed]",
            "text/plain": [
              "<Figure size 360x360 with 1 Axes>"
            ]
          },
          "metadata": {
            "tags": [],
            "needs_background": "light"
          }
        }
      ]
    },
    {
      "cell_type": "code",
      "metadata": {
        "id": "aopbJhQF7XaT",
        "outputId": "4f505f85-c0f8-4590-fa00-92baee8278cb",
        "colab": {
          "base_uri": "https://localhost:8080/",
          "height": 548
        }
      },
      "source": [
        "print(\"Distribution of estado data\")\n",
        "figure = plt.figure(figsize=(20, 10))\n",
        "fig = sns.catplot(x='estado', y='id', kind='violin', data=df_taxisrcp, height=5, aspect=2)\n",
        "fig.set_xticklabels(rotation=90)\n",
        "plt.show()"
      ],
      "execution_count": null,
      "outputs": [
        {
          "output_type": "stream",
          "text": [
            "Distribution of estado data\n"
          ],
          "name": "stdout"
        },
        {
          "output_type": "display_data",
          "data": {
            "text/plain": [
              "<Figure size 1440x720 with 0 Axes>"
            ]
          },
          "metadata": {
            "tags": []
          }
        },
        {
          "output_type": "display_data",
          "data": {
            "image/png": "[encoded data removed]",
            "text/plain": [
              "<Figure size 720x360 with 1 Axes>"
            ]
          },
          "metadata": {
            "tags": [],
            "needs_background": "light"
          }
        }
      ]
    },
    {
      "cell_type": "code",
      "metadata": {
        "id": "WHpCD_NV4bI5",
        "outputId": "458a046d-a63d-406a-b4b6-355a57eb70d9",
        "colab": {
          "base_uri": "https://localhost:8080/",
          "height": 411
        }
      },
      "source": [
        "print('tipo_servicio')\n",
        "fig = sns.catplot(x='tipo_servicio', kind=\"count\", data=df_taxisrcp)\n",
        "fig.set_xticklabels(rotation=90)\n",
        "plt.show()"
      ],
      "execution_count": null,
      "outputs": [
        {
          "output_type": "stream",
          "text": [
            "tipo_servicio\n"
          ],
          "name": "stdout"
        },
        {
          "output_type": "display_data",
          "data": {
            "image/png": "[encoded data removed]",
            "text/plain": [
              "<Figure size 360x360 with 1 Axes>"
            ]
          },
          "metadata": {
            "tags": [],
            "needs_background": "light"
          }
        }
      ]
    },
    {
      "cell_type": "code",
      "metadata": {
        "id": "xtzUoZzi8l95",
        "outputId": "04e3f4c6-cf2b-45eb-b7d1-8391a878d238",
        "colab": {
          "base_uri": "https://localhost:8080/",
          "height": 428
        }
      },
      "source": [
        "print(\"Distribution of tipo_servicio data\")\n",
        "figure = plt.figure(figsize=(20, 10))\n",
        "fig = sns.catplot(x='tipo_servicio', y='id', kind='violin', data=df_taxisrcp, height=5, aspect=2)\n",
        "fig.set_xticklabels(rotation=90)\n",
        "plt.show()"
      ],
      "execution_count": null,
      "outputs": [
        {
          "output_type": "stream",
          "text": [
            "Distribution of tipo_servicio data\n"
          ],
          "name": "stdout"
        },
        {
          "output_type": "display_data",
          "data": {
            "text/plain": [
              "<Figure size 1440x720 with 0 Axes>"
            ]
          },
          "metadata": {
            "tags": []
          }
        },
        {
          "output_type": "display_data",
          "data": {
            "image/png": "[encoded data removed]",
            "text/plain": [
              "<Figure size 720x360 with 1 Axes>"
            ]
          },
          "metadata": {
            "tags": [],
            "needs_background": "light"
          }
        }
      ]
    },
    {
      "cell_type": "code",
      "metadata": {
        "id": "DpmyiMfp49VP",
        "outputId": "cd450426-80a5-482d-efb1-21637c7c7c7b",
        "colab": {
          "base_uri": "https://localhost:8080/",
          "height": 399
        }
      },
      "source": [
        "print('genero')\n",
        "fig = sns.catplot(x='genero', kind=\"count\", data=df_taxisrcp)\n",
        "fig.set_xticklabels(rotation=90)\n",
        "plt.show()"
      ],
      "execution_count": null,
      "outputs": [
        {
          "output_type": "stream",
          "text": [
            "genero\n"
          ],
          "name": "stdout"
        },
        {
          "output_type": "display_data",
          "data": {
            "image/png": "[encoded data removed]",
            "text/plain": [
              "<Figure size 360x360 with 1 Axes>"
            ]
          },
          "metadata": {
            "tags": [],
            "needs_background": "light"
          }
        }
      ]
    },
    {
      "cell_type": "code",
      "metadata": {
        "id": "F7K7Wx2K8uJX",
        "outputId": "20e1646f-1d8a-4d4d-e134-d2ec5a482a5d",
        "colab": {
          "base_uri": "https://localhost:8080/",
          "height": 416
        }
      },
      "source": [
        "print(\"Distribution of genero data\")\n",
        "figure = plt.figure(figsize=(20, 10))\n",
        "fig = sns.catplot(x='genero', y='id', kind='violin', data=df_taxisrcp, height=5, aspect=2)\n",
        "fig.set_xticklabels(rotation=90)\n",
        "plt.show()"
      ],
      "execution_count": null,
      "outputs": [
        {
          "output_type": "stream",
          "text": [
            "Distribution of genero data\n"
          ],
          "name": "stdout"
        },
        {
          "output_type": "display_data",
          "data": {
            "text/plain": [
              "<Figure size 1440x720 with 0 Axes>"
            ]
          },
          "metadata": {
            "tags": []
          }
        },
        {
          "output_type": "display_data",
          "data": {
            "image/png": "[encoded data removed]",
            "text/plain": [
              "<Figure size 720x360 with 1 Axes>"
            ]
          },
          "metadata": {
            "tags": [],
            "needs_background": "light"
          }
        }
      ]
    },
    {
      "cell_type": "markdown",
      "metadata": {
        "id": "_6cRUzui4OmJ"
      },
      "source": [
        "------------------"
      ]
    },
    {
      "cell_type": "markdown",
      "metadata": {
        "id": "Yfp1AMtp6faq"
      },
      "source": [
        "# **Geospatial analysis**"
      ]
    },
    {
      "cell_type": "code",
      "metadata": {
        "id": "6h2tuUbC7Q_W",
        "outputId": "84b2432b-2320-4927-81b5-d8e63c8c511a",
        "colab": {
          "base_uri": "https://localhost:8080/",
          "height": 619
        }
      },
      "source": [
        "from google.colab import drive\n",
        "drive.mount('/content/drive')"
      ],
      "execution_count": 33,
      "outputs": [
        {
          "output_type": "error",
          "ename": "KeyboardInterrupt",
          "evalue": "ignored",
          "traceback": [
            "\u001b[0;31m---------------------------------------------------------------------------\u001b[0m",
            "\u001b[0;31mKeyboardInterrupt\u001b[0m                         Traceback (most recent call last)",
            "\u001b[0;32m/usr/local/lib/python3.6/dist-packages/ipykernel/kernelbase.py\u001b[0m in \u001b[0;36m_input_request\u001b[0;34m(self, prompt, ident, parent, password)\u001b[0m\n\u001b[1;32m    728\u001b[0m             \u001b[0;32mtry\u001b[0m\u001b[0;34m:\u001b[0m\u001b[0;34m\u001b[0m\u001b[0;34m\u001b[0m\u001b[0m\n\u001b[0;32m--> 729\u001b[0;31m                 \u001b[0mident\u001b[0m\u001b[0;34m,\u001b[0m \u001b[0mreply\u001b[0m \u001b[0;34m=\u001b[0m \u001b[0mself\u001b[0m\u001b[0;34m.\u001b[0m\u001b[0msession\u001b[0m\u001b[0;34m.\u001b[0m\u001b[0mrecv\u001b[0m\u001b[0;34m(\u001b[0m\u001b[0mself\u001b[0m\u001b[0;34m.\u001b[0m\u001b[0mstdin_socket\u001b[0m\u001b[0;34m,\u001b[0m \u001b[0;36m0\u001b[0m\u001b[0;34m)\u001b[0m\u001b[0;34m\u001b[0m\u001b[0;34m\u001b[0m\u001b[0m\n\u001b[0m\u001b[1;32m    730\u001b[0m             \u001b[0;32mexcept\u001b[0m \u001b[0mException\u001b[0m\u001b[0;34m:\u001b[0m\u001b[0;34m\u001b[0m\u001b[0;34m\u001b[0m\u001b[0m\n",
            "\u001b[0;32m/usr/local/lib/python3.6/dist-packages/jupyter_client/session.py\u001b[0m in \u001b[0;36mrecv\u001b[0;34m(self, socket, mode, content, copy)\u001b[0m\n\u001b[1;32m    802\u001b[0m         \u001b[0;32mtry\u001b[0m\u001b[0;34m:\u001b[0m\u001b[0;34m\u001b[0m\u001b[0;34m\u001b[0m\u001b[0m\n\u001b[0;32m--> 803\u001b[0;31m             \u001b[0mmsg_list\u001b[0m \u001b[0;34m=\u001b[0m \u001b[0msocket\u001b[0m\u001b[0;34m.\u001b[0m\u001b[0mrecv_multipart\u001b[0m\u001b[0;34m(\u001b[0m\u001b[0mmode\u001b[0m\u001b[0;34m,\u001b[0m \u001b[0mcopy\u001b[0m\u001b[0;34m=\u001b[0m\u001b[0mcopy\u001b[0m\u001b[0;34m)\u001b[0m\u001b[0;34m\u001b[0m\u001b[0;34m\u001b[0m\u001b[0m\n\u001b[0m\u001b[1;32m    804\u001b[0m         \u001b[0;32mexcept\u001b[0m \u001b[0mzmq\u001b[0m\u001b[0;34m.\u001b[0m\u001b[0mZMQError\u001b[0m \u001b[0;32mas\u001b[0m \u001b[0me\u001b[0m\u001b[0;34m:\u001b[0m\u001b[0;34m\u001b[0m\u001b[0;34m\u001b[0m\u001b[0m\n",
            "\u001b[0;32m/usr/local/lib/python3.6/dist-packages/zmq/sugar/socket.py\u001b[0m in \u001b[0;36mrecv_multipart\u001b[0;34m(self, flags, copy, track)\u001b[0m\n\u001b[1;32m    490\u001b[0m         \"\"\"\n\u001b[0;32m--> 491\u001b[0;31m         \u001b[0mparts\u001b[0m \u001b[0;34m=\u001b[0m \u001b[0;34m[\u001b[0m\u001b[0mself\u001b[0m\u001b[0;34m.\u001b[0m\u001b[0mrecv\u001b[0m\u001b[0;34m(\u001b[0m\u001b[0mflags\u001b[0m\u001b[0;34m,\u001b[0m \u001b[0mcopy\u001b[0m\u001b[0;34m=\u001b[0m\u001b[0mcopy\u001b[0m\u001b[0;34m,\u001b[0m \u001b[0mtrack\u001b[0m\u001b[0;34m=\u001b[0m\u001b[0mtrack\u001b[0m\u001b[0;34m)\u001b[0m\u001b[0;34m]\u001b[0m\u001b[0;34m\u001b[0m\u001b[0;34m\u001b[0m\u001b[0m\n\u001b[0m\u001b[1;32m    492\u001b[0m         \u001b[0;31m# have first part already, only loop while more to receive\u001b[0m\u001b[0;34m\u001b[0m\u001b[0;34m\u001b[0m\u001b[0;34m\u001b[0m\u001b[0m\n",
            "\u001b[0;32mzmq/backend/cython/socket.pyx\u001b[0m in \u001b[0;36mzmq.backend.cython.socket.Socket.recv\u001b[0;34m()\u001b[0m\n",
            "\u001b[0;32mzmq/backend/cython/socket.pyx\u001b[0m in \u001b[0;36mzmq.backend.cython.socket.Socket.recv\u001b[0;34m()\u001b[0m\n",
            "\u001b[0;32mzmq/backend/cython/socket.pyx\u001b[0m in \u001b[0;36mzmq.backend.cython.socket._recv_copy\u001b[0;34m()\u001b[0m\n",
            "\u001b[0;32m/usr/local/lib/python3.6/dist-packages/zmq/backend/cython/checkrc.pxd\u001b[0m in \u001b[0;36mzmq.backend.cython.checkrc._check_rc\u001b[0;34m()\u001b[0m\n",
            "\u001b[0;31mKeyboardInterrupt\u001b[0m: ",
            "\nDuring handling of the above exception, another exception occurred:\n",
            "\u001b[0;31mKeyboardInterrupt\u001b[0m                         Traceback (most recent call last)",
            "\u001b[0;32m<ipython-input-33-d5df0069828e>\u001b[0m in \u001b[0;36m<module>\u001b[0;34m()\u001b[0m\n\u001b[1;32m      1\u001b[0m \u001b[0;32mfrom\u001b[0m \u001b[0mgoogle\u001b[0m\u001b[0;34m.\u001b[0m\u001b[0mcolab\u001b[0m \u001b[0;32mimport\u001b[0m \u001b[0mdrive\u001b[0m\u001b[0;34m\u001b[0m\u001b[0;34m\u001b[0m\u001b[0m\n\u001b[0;32m----> 2\u001b[0;31m \u001b[0mdrive\u001b[0m\u001b[0;34m.\u001b[0m\u001b[0mmount\u001b[0m\u001b[0;34m(\u001b[0m\u001b[0;34m'/content/drive'\u001b[0m\u001b[0;34m)\u001b[0m\u001b[0;34m\u001b[0m\u001b[0;34m\u001b[0m\u001b[0m\n\u001b[0m",
            "\u001b[0;32m/usr/local/lib/python3.6/dist-packages/google/colab/drive.py\u001b[0m in \u001b[0;36mmount\u001b[0;34m(mountpoint, force_remount, timeout_ms, use_metadata_server)\u001b[0m\n\u001b[1;32m    249\u001b[0m       \u001b[0;32mwith\u001b[0m \u001b[0m_output\u001b[0m\u001b[0;34m.\u001b[0m\u001b[0muse_tags\u001b[0m\u001b[0;34m(\u001b[0m\u001b[0;34m'dfs-auth-dance'\u001b[0m\u001b[0;34m)\u001b[0m\u001b[0;34m:\u001b[0m\u001b[0;34m\u001b[0m\u001b[0;34m\u001b[0m\u001b[0m\n\u001b[1;32m    250\u001b[0m         \u001b[0;32mwith\u001b[0m \u001b[0mopen\u001b[0m\u001b[0;34m(\u001b[0m\u001b[0mfifo\u001b[0m\u001b[0;34m,\u001b[0m \u001b[0;34m'w'\u001b[0m\u001b[0;34m)\u001b[0m \u001b[0;32mas\u001b[0m \u001b[0mfifo_file\u001b[0m\u001b[0;34m:\u001b[0m\u001b[0;34m\u001b[0m\u001b[0;34m\u001b[0m\u001b[0m\n\u001b[0;32m--> 251\u001b[0;31m           \u001b[0mfifo_file\u001b[0m\u001b[0;34m.\u001b[0m\u001b[0mwrite\u001b[0m\u001b[0;34m(\u001b[0m\u001b[0mget_code\u001b[0m\u001b[0;34m(\u001b[0m\u001b[0mauth_prompt\u001b[0m\u001b[0;34m)\u001b[0m \u001b[0;34m+\u001b[0m \u001b[0;34m'\\n'\u001b[0m\u001b[0;34m)\u001b[0m\u001b[0;34m\u001b[0m\u001b[0;34m\u001b[0m\u001b[0m\n\u001b[0m\u001b[1;32m    252\u001b[0m       \u001b[0mwrote_to_fifo\u001b[0m \u001b[0;34m=\u001b[0m \u001b[0;32mTrue\u001b[0m\u001b[0;34m\u001b[0m\u001b[0;34m\u001b[0m\u001b[0m\n\u001b[1;32m    253\u001b[0m     \u001b[0;32melif\u001b[0m \u001b[0mcase\u001b[0m \u001b[0;34m==\u001b[0m \u001b[0;36m5\u001b[0m\u001b[0;34m:\u001b[0m\u001b[0;34m\u001b[0m\u001b[0;34m\u001b[0m\u001b[0m\n",
            "\u001b[0;32m/usr/local/lib/python3.6/dist-packages/ipykernel/kernelbase.py\u001b[0m in \u001b[0;36mraw_input\u001b[0;34m(self, prompt)\u001b[0m\n\u001b[1;32m    702\u001b[0m             \u001b[0mself\u001b[0m\u001b[0;34m.\u001b[0m\u001b[0m_parent_ident\u001b[0m\u001b[0;34m,\u001b[0m\u001b[0;34m\u001b[0m\u001b[0;34m\u001b[0m\u001b[0m\n\u001b[1;32m    703\u001b[0m             \u001b[0mself\u001b[0m\u001b[0;34m.\u001b[0m\u001b[0m_parent_header\u001b[0m\u001b[0;34m,\u001b[0m\u001b[0;34m\u001b[0m\u001b[0;34m\u001b[0m\u001b[0m\n\u001b[0;32m--> 704\u001b[0;31m             \u001b[0mpassword\u001b[0m\u001b[0;34m=\u001b[0m\u001b[0;32mFalse\u001b[0m\u001b[0;34m,\u001b[0m\u001b[0;34m\u001b[0m\u001b[0;34m\u001b[0m\u001b[0m\n\u001b[0m\u001b[1;32m    705\u001b[0m         )\n\u001b[1;32m    706\u001b[0m \u001b[0;34m\u001b[0m\u001b[0m\n",
            "\u001b[0;32m/usr/local/lib/python3.6/dist-packages/ipykernel/kernelbase.py\u001b[0m in \u001b[0;36m_input_request\u001b[0;34m(self, prompt, ident, parent, password)\u001b[0m\n\u001b[1;32m    732\u001b[0m             \u001b[0;32mexcept\u001b[0m \u001b[0mKeyboardInterrupt\u001b[0m\u001b[0;34m:\u001b[0m\u001b[0;34m\u001b[0m\u001b[0;34m\u001b[0m\u001b[0m\n\u001b[1;32m    733\u001b[0m                 \u001b[0;31m# re-raise KeyboardInterrupt, to truncate traceback\u001b[0m\u001b[0;34m\u001b[0m\u001b[0;34m\u001b[0m\u001b[0;34m\u001b[0m\u001b[0m\n\u001b[0;32m--> 734\u001b[0;31m                 \u001b[0;32mraise\u001b[0m \u001b[0mKeyboardInterrupt\u001b[0m\u001b[0;34m\u001b[0m\u001b[0;34m\u001b[0m\u001b[0m\n\u001b[0m\u001b[1;32m    735\u001b[0m             \u001b[0;32melse\u001b[0m\u001b[0;34m:\u001b[0m\u001b[0;34m\u001b[0m\u001b[0;34m\u001b[0m\u001b[0m\n\u001b[1;32m    736\u001b[0m                 \u001b[0;32mbreak\u001b[0m\u001b[0;34m\u001b[0m\u001b[0;34m\u001b[0m\u001b[0m\n",
            "\u001b[0;31mKeyboardInterrupt\u001b[0m: "
          ]
        }
      ]
    },
    {
      "cell_type": "code",
      "metadata": {
        "id": "7K8j0kqB6xI8"
      },
      "source": [
        "# Function to create a Geodataframe. This code was taken from Geospatial-Data-Science-Quick-Start-Guide book\n",
        "def create_gdf(df, lat, lon):\n",
        "  \"\"\" Convert pandas dataframe into a Geopandas GeoDataFrame\"\"\"\n",
        "  crs = {'init': 'epsg:4326'}\n",
        "  geometry = [Point(xy) for xy in zip(df[lon], df[lat])]\n",
        "  gdf = gpd.GeoDataFrame(df, crs=crs, geometry=geometry)\n",
        "  return gdf\n"
      ],
      "execution_count": null,
      "outputs": []
    },
    {
      "cell_type": "code",
      "metadata": {
        "id": "GuMp4f7L67mo",
        "outputId": "b1b96161-f246-458c-d089-90481efac6ba",
        "colab": {
          "base_uri": "https://localhost:8080/",
          "height": 182
        }
      },
      "source": [
        "taxi_gdf = create_gdf(df_latlon, 'latitud', 'longitud')\n",
        "taxi_gdf.head()"
      ],
      "execution_count": 34,
      "outputs": [
        {
          "output_type": "error",
          "ename": "NameError",
          "evalue": "ignored",
          "traceback": [
            "\u001b[0;31m---------------------------------------------------------------------------\u001b[0m",
            "\u001b[0;31mNameError\u001b[0m                                 Traceback (most recent call last)",
            "\u001b[0;32m<ipython-input-34-1ea1b352e39f>\u001b[0m in \u001b[0;36m<module>\u001b[0;34m()\u001b[0m\n\u001b[0;32m----> 1\u001b[0;31m \u001b[0mtaxi_gdf\u001b[0m \u001b[0;34m=\u001b[0m \u001b[0mcreate_gdf\u001b[0m\u001b[0;34m(\u001b[0m\u001b[0mdf_latlon\u001b[0m\u001b[0;34m,\u001b[0m \u001b[0;34m'latitud'\u001b[0m\u001b[0;34m,\u001b[0m \u001b[0;34m'longitud'\u001b[0m\u001b[0;34m)\u001b[0m\u001b[0;34m\u001b[0m\u001b[0;34m\u001b[0m\u001b[0m\n\u001b[0m\u001b[1;32m      2\u001b[0m \u001b[0mtaxi_gdf\u001b[0m\u001b[0;34m.\u001b[0m\u001b[0mhead\u001b[0m\u001b[0;34m(\u001b[0m\u001b[0;34m)\u001b[0m\u001b[0;34m\u001b[0m\u001b[0;34m\u001b[0m\u001b[0m\n",
            "\u001b[0;31mNameError\u001b[0m: name 'create_gdf' is not defined"
          ]
        }
      ]
    },
    {
      "cell_type": "code",
      "metadata": {
        "id": "gzxaPytE7YJ-",
        "outputId": "43a34d14-0bc5-4f8c-8047-b3c9dfb233d3",
        "colab": {
          "base_uri": "https://localhost:8080/",
          "height": 80
        }
      },
      "source": [
        "fname = '/content/drive/My Drive/Colab Notebooks/pasto.geojson' # Your filepath here\n",
        "polyPasto = gpd.read_file(fname)\n",
        "polyPasto.set_crs(epsg=4326, inplace=True)\n",
        "polyPasto.head()"
      ],
      "execution_count": null,
      "outputs": [
        {
          "output_type": "execute_result",
          "data": {
            "text/html": [
              "<div>\n",
              "<style scoped>\n",
              "    .dataframe tbody tr th:only-of-type {\n",
              "        vertical-align: middle;\n",
              "    }\n",
              "\n",
              "    .dataframe tbody tr th {\n",
              "        vertical-align: top;\n",
              "    }\n",
              "\n",
              "    .dataframe thead th {\n",
              "        text-align: right;\n",
              "    }\n",
              "</style>\n",
              "<table border=\"1\" class=\"dataframe\">\n",
              "  <thead>\n",
              "    <tr style=\"text-align: right;\">\n",
              "      <th></th>\n",
              "      <th>geometry</th>\n",
              "    </tr>\n",
              "  </thead>\n",
              "  <tbody>\n",
              "    <tr>\n",
              "      <th>0</th>\n",
              "      <td>GEOMETRYCOLLECTION (MULTIPOLYGON (((-77.36573 ...</td>\n",
              "    </tr>\n",
              "  </tbody>\n",
              "</table>\n",
              "</div>"
            ],
            "text/plain": [
              "                                            geometry\n",
              "0  GEOMETRYCOLLECTION (MULTIPOLYGON (((-77.36573 ..."
            ]
          },
          "metadata": {
            "tags": []
          },
          "execution_count": 25
        }
      ]
    },
    {
      "cell_type": "code",
      "metadata": {
        "id": "RcUNe_586mzY",
        "outputId": "4e048121-45bb-43c1-d346-ba700debea09",
        "colab": {
          "base_uri": "https://localhost:8080/",
          "height": 71
        }
      },
      "source": [
        "from geopandas.tools import sjoin\n",
        "\n",
        "pointInPolyPasto = sjoin(taxi_gdf,polyPasto, how='inner')\n",
        "pointInPolyPasto.head()"
      ],
      "execution_count": null,
      "outputs": [
        {
          "output_type": "stream",
          "text": [
            "/usr/local/lib/python3.6/dist-packages/pyproj/crs/crs.py:53: FutureWarning: '+init=<authority>:<code>' syntax is deprecated. '<authority>:<code>' is the preferred initialization method. When making the change, be mindful of axis order changes: https://pyproj4.github.io/pyproj/stable/gotchas.html#axis-order-changes-in-proj-6\n",
            "  return _prepare_from_string(\" \".join(pjargs))\n"
          ],
          "name": "stderr"
        }
      ]
    },
    {
      "cell_type": "code",
      "metadata": {
        "id": "AwEcGW6RfRpJ"
      },
      "source": [
        ""
      ],
      "execution_count": null,
      "outputs": []
    },
    {
      "cell_type": "code",
      "metadata": {
        "id": "ftJVuMVK8F2j",
        "outputId": "f243381d-5dd4-4cea-aec7-f8dfb3c65237",
        "colab": {
          "base_uri": "https://localhost:8080/",
          "height": 233
        }
      },
      "source": [
        "pasto_latitude, pasto_longitude = 1.21361,-77.28111\n",
        "\n",
        "# define the world map centered around pasto COlombia with a higher zoom level width=550,height=550,\n",
        "pasto_map = folium.Map(location=[pasto_latitude, pasto_longitude], zoom_start=8)\n",
        "icon_taxi = plugins.BeautifyIcon(\n",
        "    icon='taxi',\n",
        "    border_color='#b3334f',\n",
        "    text_color='#b3334f',icon_shape= 'marker')\n",
        "\n",
        "def plotMarket(point):\n",
        "  folium.Marker(\n",
        "      location=[point.latitud, point.longitud],\n",
        "      popup=point.direccion\n",
        "  ).add_to(pasto_map)\n",
        "\n",
        "df_geo.apply(plotMarket, axis = 1)\n",
        "# display world map\n",
        "pasto_map"
      ],
      "execution_count": 35,
      "outputs": [
        {
          "output_type": "error",
          "ename": "NameError",
          "evalue": "ignored",
          "traceback": [
            "\u001b[0;31m---------------------------------------------------------------------------\u001b[0m",
            "\u001b[0;31mNameError\u001b[0m                                 Traceback (most recent call last)",
            "\u001b[0;32m<ipython-input-35-c64e068e2dc1>\u001b[0m in \u001b[0;36m<module>\u001b[0;34m()\u001b[0m\n\u001b[1;32m     14\u001b[0m   ).add_to(pasto_map)\n\u001b[1;32m     15\u001b[0m \u001b[0;34m\u001b[0m\u001b[0m\n\u001b[0;32m---> 16\u001b[0;31m \u001b[0mdf_geo\u001b[0m\u001b[0;34m.\u001b[0m\u001b[0mapply\u001b[0m\u001b[0;34m(\u001b[0m\u001b[0mplotMarket\u001b[0m\u001b[0;34m,\u001b[0m \u001b[0maxis\u001b[0m \u001b[0;34m=\u001b[0m \u001b[0;36m1\u001b[0m\u001b[0;34m)\u001b[0m\u001b[0;34m\u001b[0m\u001b[0;34m\u001b[0m\u001b[0m\n\u001b[0m\u001b[1;32m     17\u001b[0m \u001b[0;31m# display world map\u001b[0m\u001b[0;34m\u001b[0m\u001b[0;34m\u001b[0m\u001b[0;34m\u001b[0m\u001b[0m\n\u001b[1;32m     18\u001b[0m \u001b[0mpasto_map\u001b[0m\u001b[0;34m\u001b[0m\u001b[0;34m\u001b[0m\u001b[0m\n",
            "\u001b[0;31mNameError\u001b[0m: name 'df_geo' is not defined"
          ]
        }
      ]
    },
    {
      "cell_type": "code",
      "metadata": {
        "id": "OhXyEVZwfTJD",
        "outputId": "59fe7ae3-c442-4049-c259-29e19c60c8fb",
        "colab": {
          "base_uri": "https://localhost:8080/",
          "height": 233
        }
      },
      "source": [
        "comuna1=[\"\"]\n",
        "comuna2\n",
        "comuna3\n",
        "comuna4\n",
        "comuna5\n",
        "comuna6\n",
        "comuna7\n",
        "comuna8\n",
        "comuna9\n",
        "comuna10\n",
        "comuna11\n",
        "comuna12\n",
        "\n",
        "\n",
        "df_taxisrcp"
      ],
      "execution_count": 36,
      "outputs": [
        {
          "output_type": "error",
          "ename": "NameError",
          "evalue": "ignored",
          "traceback": [
            "\u001b[0;31m---------------------------------------------------------------------------\u001b[0m",
            "\u001b[0;31mNameError\u001b[0m                                 Traceback (most recent call last)",
            "\u001b[0;32m<ipython-input-36-78db86ae6852>\u001b[0m in \u001b[0;36m<module>\u001b[0;34m()\u001b[0m\n\u001b[1;32m      1\u001b[0m \u001b[0mcomuna1\u001b[0m\u001b[0;34m=\u001b[0m\u001b[0;34m[\u001b[0m\u001b[0;34m\"\"\u001b[0m\u001b[0;34m]\u001b[0m\u001b[0;34m\u001b[0m\u001b[0;34m\u001b[0m\u001b[0m\n\u001b[0;32m----> 2\u001b[0;31m \u001b[0mcomuna2\u001b[0m\u001b[0;34m\u001b[0m\u001b[0;34m\u001b[0m\u001b[0m\n\u001b[0m\u001b[1;32m      3\u001b[0m \u001b[0mcomuna3\u001b[0m\u001b[0;34m\u001b[0m\u001b[0;34m\u001b[0m\u001b[0m\n\u001b[1;32m      4\u001b[0m \u001b[0mcomuna4\u001b[0m\u001b[0;34m\u001b[0m\u001b[0;34m\u001b[0m\u001b[0m\n\u001b[1;32m      5\u001b[0m \u001b[0mcomuna5\u001b[0m\u001b[0;34m\u001b[0m\u001b[0;34m\u001b[0m\u001b[0m\n",
            "\u001b[0;31mNameError\u001b[0m: name 'comuna2' is not defined"
          ]
        }
      ]
    },
    {
      "cell_type": "code",
      "metadata": {
        "id": "ykxHdX5ggGQz"
      },
      "source": [
        "comuna1=[\"avenida boyaca\", \"avenida santander\", \"bombona\", \"caracha\", \"centro\", \"condominio santiado\", \"churo\", \"portalito\", \"parque\", \"centro\",\n",
        "         \"condominio santiago\", \"cilindro\", \"hullaguanga\", \"panaderia\", \"americas\", \"dos puentes\", \"marcos de la rosa\", \"san agustin centro\", \"san andres\", \"san andresito\", \"san jose\", \n",
        "         \"jose obrero\", \"santiago\", \"miravalle\"]\n",
        "\n",
        "\n",
        "df_taxisrcp[\"direccion\"]=df_taxisrcp[\"direccion\"].str.lower()\n",
        "\n",
        "for i in comuna1:\n",
        "  mask = df_taxisrcp['direccion'].str.contains(i)\n",
        "  df_taxisrcp.loc[mask, 'barrio'] = i\n",
        "  df_taxisrcp.loc[mask, 'comuna'] = 1\n",
        "\n",
        "\n",
        "comuna2=[\"alhambra\", \"aire libre\", \"atahualpa\", \"avenida champagnat\", \"avenida colombia\", \"bella vista\", \"casa bella\", \"coliseo cubierto\", \"olivo\", \"prado\", \"recuerdo\", \"fatima\", \"javeriano\", \"julian Bucheli\", \"gran colombia\",\n",
        " \"lunas\",  \"violetas\",  \"abedules\", \"alamos\",  \"balcones\", \"olivos\", \"medardo bucheli\", \"navarrete\", \"normandia\", \"parque bolivar\", \"salomon\", \"san miguel\",  \"juan bosco\", \"villa lucia\"]\n",
        "\n",
        "for i in comuna2:\n",
        "  mask = df_taxisrcp['direccion'].str.contains(i)\n",
        "  df_taxisrcp.loc[mask, 'barrio'] = i\n",
        "  df_taxisrcp.loc[mask, 'comuna'] = 2\n"
      ],
      "execution_count": 37,
      "outputs": []
    },
    {
      "cell_type": "code",
      "metadata": {
        "id": "Sa-6mu7DxX0s"
      },
      "source": [
        "comuna3=[\"alejandria\", \"arnulfo guerrero\", \"caicedonia\", \"camilo torres\", \"casa Loma\", \"ejido\", \"guamuez\", \"jose antonio galan\", \"esmeralda\", \"estrella\",  \"brisas\", \"lajas\", \"mercedes\", \"pinos\", \"mercedario\", \"pie de cuesta\", \"pinar del rio\", \"popular\", \"pucalpa\",\n",
        "   \"rosal del  oriente\", \"santa barbara\", \"santa catalina\", \"santa monica\", \"villa oriente\", \"villa flor\"]\n",
        "\n",
        "for i in comuna3:\n",
        "  mask = df_taxisrcp['direccion'].str.contains(i)\n",
        "  df_taxisrcp.loc[mask, 'barrio'] = i\n",
        "  df_taxisrcp.loc[mask, 'comuna'] = 3\n",
        "\n",
        "\n"
      ],
      "execution_count": 38,
      "outputs": []
    },
    {
      "cell_type": "code",
      "metadata": {
        "id": "xy2PcG3-0cFr"
      },
      "source": [
        "comuna4=[\"albergue del sol\", \"altos de lorenzo\", \"altos del campo\", \"avenida idema\", \"belen\", \"bernal\", \"betania\", \"chile\", \"doce de octubre\", \"porvenir\", \"rosario\", \"tejar\", \"triunfo\",  \"paz\"\n",
        "\"laureano gomez\", \"lorenzo de aldana\", \"eliseos\", \"miraflores\", \"praga\", \"puerta del sol\", \"rincon colonial\", \"san german\" ,\"san juan de los pastos\" ,\"santa fe\", \"santacruz\", \"sendoya\" ,\"siete de agosto\", \"villa olimpica\", \"villa victoria\", \"villa docente\"]\n",
        "\n",
        "for i in comuna4:\n",
        "  mask = df_taxisrcp['direccion'].str.contains(i)\n",
        "  df_taxisrcp.loc[mask, 'barrio'] = i\n",
        "  df_taxisrcp.loc[mask, 'comuna'] = 4\n",
        "\n",
        "\n",
        "\n"
      ],
      "execution_count": 39,
      "outputs": []
    },
    {
      "cell_type": "code",
      "metadata": {
        "id": "Ap8_fpom69fC"
      },
      "source": [
        "comuna5=[\"altos de chapalito\", \"antonio nariño\", \"cantarana\", \"chambu\", \"chapal\",  \"pilar\", \"progreso\", \"remanso\", \"emilio botero\", \"minga\", \"la rosa\", \"vega\", \"ferias\", \"cristales\", \"robles\", \"madrigal\", \"maria isabel\", \"potrerillo\", \"prados del sur\", \"salida al sur\",\n",
        " \"san martin\", \"santa clara\", \"venecia\", \"villa del rio\", \"vivienda cristiana\"]\n",
        "\n",
        "for i in comuna5:\n",
        "  mask = df_taxisrcp['direccion'].str.contains(i)\n",
        "  df_taxisrcp.loc[mask, 'barrio'] = i\n",
        "  df_taxisrcp.loc[mask, 'comuna'] = 5\n",
        "\n",
        "\n",
        "\n",
        "\n",
        "\n",
        "\n"
      ],
      "execution_count": 40,
      "outputs": []
    },
    {
      "cell_type": "code",
      "metadata": {
        "id": "8z4RzcDm-cz9"
      },
      "source": [
        "comuna6=[\"agualongo\", \"altamira\", \"bachue\", \"caicedo\", \"ciudad jardin\", \"popular nariñense\", \"estadio\", \"libertador\", \"gilberto pabon\", \"granada\", \"inem\", \"jerusalen\", \"cruz\", \"palma\", \"fundadores\", \"luis carlos galan\", \"mijitayo\", \n",
        "\"mirador de niza\", \"niza\", \"nueva colombia\"\" prados del niza\", \"quillacinga\", \"quito lopez\", \" san carlos\", \"san miguel de jongovito\", \"san sebastian\", \"santa isabel\", \"santanita\", \"sumatambo\", \"tamasagra\", \"tequendama\",\n",
        "\"valle lili\", \"villa de los rios\"]\n",
        "\n",
        "for i in comuna6:\n",
        "  mask = df_taxisrcp['direccion'].str.contains(i)\n",
        "  df_taxisrcp.loc[mask, 'barrio'] = i\n",
        "  df_taxisrcp.loc[mask, 'comuna'] = 6\n",
        "\n"
      ],
      "execution_count": 41,
      "outputs": []
    },
    {
      "cell_type": "code",
      "metadata": {
        "id": "cz32eDpEAhtR"
      },
      "source": [
        "\n",
        "comuna7=[\"achalay\", \"avenida panamericana\", \"capusigra\", \"castillos  del norte\", \"conjunto el parque\", \"bosque\", \"eden\", \"rincon de la aurora\", \"rincon de la panamericana\", \"francisco de la villota\", \"la aurora\", \"primavera\", \"acacias\",\n",
        "\"camelias\", \"andes\", \"hexagonos\", \"rosales\", \"san felipe\", \"san ignacio\", \"santa maria\", \"villa aurora\", \"villa campanela\", \"villa sofia\", \"villa vergel\"]\n",
        "\n",
        "for i in comuna7:\n",
        "  mask = df_taxisrcp['direccion'].str.contains(i)\n",
        "  df_taxisrcp.loc[mask, 'barrio'] = i\n",
        "  df_taxisrcp.loc[mask, 'comuna'] = 7\n",
        "\n",
        "\n"
      ],
      "execution_count": 42,
      "outputs": []
    },
    {
      "cell_type": "code",
      "metadata": {
        "id": "kS70tpU1C-VA"
      },
      "source": [
        "comuna8=[\"altamira\", \"san vicente\", \"alta vista\", \"altos de la colina\", \"anganoy\", \"arcos iris\", \"balcones de mariluz\", \"bello horizonte\", \"colon\", \"colpatria\", \"conjunto san diego\", \"el remanso del norte\", \"gualcaloma\", \"jorge giraldo\", \n",
        "\"castellana\", \"cuesta\", \"pradera\", \"margaritas\", \"frailejones\", \"heroes\", \"laureles\", \"urapanes\",\"mariluz\", \"mirador de san juan\", \"miravalle\", \"montemor\", \"panamericano\", \"san pedro\",  \"portal de la colina\", \"prados del oeste\", \"quintas de san pedro\",\n",
        "\"remansos del norte\", \"salazar mejia\", \"san diego\", \"san juan de anganoy\", \"san juan de dios\", \"sindamanoy\", \"torres de pubenza\", \"veracruz\", \"villa jardin\", \"villas de san rafael\"]\n",
        "\n",
        "for i in comuna8:\n",
        "  mask = df_taxisrcp['direccion'].str.contains(i)\n",
        "  df_taxisrcp.loc[mask, 'barrio'] = i\n",
        "  df_taxisrcp.loc[mask, 'comuna'] = 8\n",
        "\n"
      ],
      "execution_count": 43,
      "outputs": []
    },
    {
      "cell_type": "code",
      "metadata": {
        "id": "MLC--_IeFDdp"
      },
      "source": [
        "comuna9=[\"alto juanoy\", \"los estudiantes\", \"briceno\", \"calatrava\", \"camino real\", \"castilla\", \"chapultepec\", \"colonial\", \"condominio morasurco\", \"conjunto torobajo\", \"aljibe\", \"ceramico\", \"dorado\", \"mirador\", \"polvorin\", \"refugio\", \n",
        "\"figueroa\", \"jose ignacio zarama\", \"juan xxiii\", \"juanoy\", \"la colina\", \"riviera\", \"cuadras\", \"victoria\", \"nogales\", \"sauces\", \"luis brand\", \"manaca\", \"maridiaz\", \"marsella\", \"morasurco\", \"nuevo amanecer\", \"palermo\", \"pandiaco\",\n",
        "\"parana\", \"parque infantil\", \"pinos del norte\", \"portal de la colina\", \"san antonio de juanoy\", \"santa ana\", \"santa rita\", \"sañudo\", \"tequendama\", \"terranova\", \"terrazas de briceño\", \"titan\", \"torobajo\", \"universitario\", \"zarama\", \n",
        "\"valle de atriz\", \"versalles\", \"villa campestre\", \"villa maria\"]\n",
        "\n",
        "for i in comuna9:\n",
        "  mask = df_taxisrcp['direccion'].str.contains(i)\n",
        "  df_taxisrcp.loc[mask, 'barrio'] = i\n",
        "  df_taxisrcp.loc[mask, 'comuna'] = 9\n",
        "\n",
        "\n",
        "\n",
        "\n"
      ],
      "execution_count": 44,
      "outputs": []
    },
    {
      "cell_type": "code",
      "metadata": {
        "id": "KEi-gS1rIZkH"
      },
      "source": [
        "comuna10=[\"aranda\", \"avenida aranda\", \"avenida oriental\", \"avenida oriental rio pasto\", \"buenos aires\", \"cementerio\", \"condominio bellavista\", \"corazon de jesus\", \"cra 27 a del barrio centenario\", \"destechados\", \"futuro\", \"portal de aranda\",\n",
        "\"portal del norte\", \"rincon de pasto\", \"rincon del rosario\", \"juan pablo\", \"esperanza\", \"floresta\", \"libertad\", \"loma del carmen\",  \"marquetalia\", \"niño jesus de praga\", \"nueva aranda\", \"nuevo horizonte\", \"nuevo sol\", \"ocho de marzo\", \n",
        "\"prados del norte\", \"quebrada gallinacera\", \"quillotocto\", \"rincon de aranda\", \"rio blanco\", \"san albano\", \"santa matilde\", \"sector pedagogico\", \"sol de oriente\", \"termina sector peatonal 28\", \"tescual\", \"villa del rosario\", \"villa guerrero\", \n",
        " \"villas del norte\"]\n",
        "\n",
        "for i in comuna10:\n",
        "  mask = df_taxisrcp['direccion'].str.contains(i)\n",
        "  df_taxisrcp.loc[mask, 'barrio'] = i\n",
        "  df_taxisrcp.loc[mask, 'comuna'] = 10\n",
        "\n",
        "\n"
      ],
      "execution_count": 45,
      "outputs": []
    },
    {
      "cell_type": "code",
      "metadata": {
        "id": "I51h_56CLBLP"
      },
      "source": [
        "\n",
        "comuna11=[\"alameda\", \"Aquine\",  \"belalcazar\", \"centenario\", \"chico\", \"ciudad real\", \"corazon de jesus\", \"calvario\", \"el comun\", \"corralito\", \"hospital civil\", \"floresta\", \"lomita\", \"alcazares\", \"rincon del paraiso\", \"salsipuedes\", \"villa elena\", \n",
        "\"villa jazmin\"]\n",
        "\n",
        "for i in comuna11:\n",
        "  mask = df_taxisrcp['direccion'].str.contains(i)\n",
        "  df_taxisrcp.loc[mask, 'barrio'] = i\n",
        "  df_taxisrcp.loc[mask, 'comuna'] = 11\n",
        "\n"
      ],
      "execution_count": 46,
      "outputs": []
    },
    {
      "cell_type": "code",
      "metadata": {
        "id": "eKEjDf0pLBHU"
      },
      "source": [
        "comuna12=[\"la carolina\", \"altos de la carolina\", \"balcones del este\", \"campiña de oriente\", \"carlos pizarro\", \"cujacal bajo\", \"manantial\", \"paraiso\", \"fray ezequiel moreno diaz\", \"gualcala\",\"florida\", \"josefina\", \"orquideas\", \"maria paz\", \n",
        "\"monserrat\", \"parque de baviera\", \"san diego norte\", \"san mateo\", \"sena\", \"simon bolivar\", \"sindagua\", \"villa colombia\", \"villa adriana maria\", \"villa angela\", \"villa del prado\", \"villa recreo\", \"villa rocio\"]\n",
        "\n",
        "for i in comuna12:\n",
        "  mask = df_taxisrcp['direccion'].str.contains(i)\n",
        "  df_taxisrcp.loc[mask, 'barrio'] = i\n",
        "  df_taxisrcp.loc[mask, 'comuna'] = 12\n",
        "\n"
      ],
      "execution_count": 47,
      "outputs": []
    },
    {
      "cell_type": "code",
      "metadata": {
        "id": "QtwKGSfILAgT",
        "outputId": "13861f85-b64d-4338-b5c5-714daa2083bb",
        "colab": {
          "base_uri": "https://localhost:8080/",
          "height": 134
        }
      },
      "source": [
        "%matplotlib inline\n",
        "\n",
        "df_taxisrcp.groupby(\"comuna\").count()\n",
        "g = sns.FacetGrid(df_taxisrcp, col=\"comuna\")\n",
        "g.map(plt.hist, \"fecha\")"
      ],
      "execution_count": null,
      "outputs": [
        {
          "output_type": "execute_result",
          "data": {
            "text/plain": [
              "<seaborn.axisgrid.FacetGrid at 0x7fa850979eb8>"
            ]
          },
          "metadata": {
            "tags": []
          },
          "execution_count": 44
        },
        {
          "output_type": "display_data",
          "data": {
            "image/png": "[encoded data removed]",
            "text/plain": [
              "<Figure size 2592x216 with 12 Axes>"
            ]
          },
          "metadata": {
            "tags": [],
            "needs_background": "light"
          }
        }
      ]
    },
    {
      "cell_type": "code",
      "metadata": {
        "id": "bcO1LnNk4F9M",
        "outputId": "431d058c-40b2-43fa-a555-abb5002b8baf",
        "colab": {
          "base_uri": "https://localhost:8080/",
          "height": 516
        }
      },
      "source": [
        "\n",
        "fig, ax = plt.subplots(figsize=(15, 8))\n",
        "sns.countplot(x='comuna', data=df_taxisrcp)"
      ],
      "execution_count": null,
      "outputs": [
        {
          "output_type": "execute_result",
          "data": {
            "text/plain": [
              "<matplotlib.axes._subplots.AxesSubplot at 0x7f2943ac1358>"
            ]
          },
          "metadata": {
            "tags": []
          },
          "execution_count": 57
        },
        {
          "output_type": "display_data",
          "data": {
            "image/png": "[encoded data removed]",
            "text/plain": [
              "<Figure size 1080x576 with 1 Axes>"
            ]
          },
          "metadata": {
            "tags": [],
            "needs_background": "light"
          }
        }
      ]
    },
    {
      "cell_type": "code",
      "metadata": {
        "id": "9EYSgLT_KfZY",
        "outputId": "9166a00b-51a1-4d2c-fa6c-b46bc17c2945",
        "colab": {
          "base_uri": "https://localhost:8080/",
          "height": 514
        }
      },
      "source": [
        "fig, ax = plt.subplots(figsize=(15, 8))\n",
        "sns.countplot(x='estado', data=df_taxisrcp, hue=\"comuna\")"
      ],
      "execution_count": null,
      "outputs": [
        {
          "output_type": "execute_result",
          "data": {
            "text/plain": [
              "<matplotlib.axes._subplots.AxesSubplot at 0x7f2941fedac8>"
            ]
          },
          "metadata": {
            "tags": []
          },
          "execution_count": 60
        },
        {
          "output_type": "display_data",
          "data": {
            "image/png": "[encoded data removed]",
            "text/plain": [
              "<Figure size 1080x576 with 1 Axes>"
            ]
          },
          "metadata": {
            "tags": [],
            "needs_background": "light"
          }
        }
      ]
    },
    {
      "cell_type": "code",
      "metadata": {
        "id": "y4NbHyk5pyLg",
        "outputId": "0df68b4f-4307-4bf0-bc54-261de4882bd8",
        "colab": {
          "base_uri": "https://localhost:8080/",
          "height": 190
        }
      },
      "source": [
        "\n",
        "\n",
        "\n",
        "\n",
        "\n",
        "df_taxisrcp['MONTHYEAR']=df_taxisrcp.fecha.dt.to_period(freq=\"M\")\n",
        "\n",
        "df_taxisrcp['WEEK']=df_taxisrcp['fecha'].dt.weekday\n",
        "\n",
        "\n",
        "#df_taxisrcp.groupby(\"comuna\").count()\n",
        "g = sns.FacetGrid(df_taxisrcp, col=\"comuna\", height=5, aspect=1)\n",
        "\n",
        "g.map(sns.countplot, \"WEEK\")"
      ],
      "execution_count": null,
      "outputs": [
        {
          "output_type": "stream",
          "text": [
            "/usr/local/lib/python3.6/dist-packages/seaborn/axisgrid.py:645: UserWarning: Using the countplot function without specifying `order` is likely to produce an incorrect plot.\n",
            "  warnings.warn(warning)\n"
          ],
          "name": "stderr"
        },
        {
          "output_type": "execute_result",
          "data": {
            "text/plain": [
              "<seaborn.axisgrid.FacetGrid at 0x7f2929a653c8>"
            ]
          },
          "metadata": {
            "tags": []
          },
          "execution_count": 77
        },
        {
          "output_type": "display_data",
          "data": {
            "image/png": "[encoded data removed]",
            "text/plain": [
              "<Figure size 4320x360 with 12 Axes>"
            ]
          },
          "metadata": {
            "tags": [],
            "needs_background": "light"
          }
        }
      ]
    },
    {
      "cell_type": "code",
      "metadata": {
        "id": "GVXeNcnARYip",
        "outputId": "fe9bfc53-c7cd-4c4c-abf5-c8eb6b253836",
        "colab": {
          "base_uri": "https://localhost:8080/",
          "height": 589
        }
      },
      "source": [
        "df_taxisrcp\n"
      ],
      "execution_count": null,
      "outputs": [
        {
          "output_type": "execute_result",
          "data": {
            "text/html": [
              "<div>\n",
              "<style scoped>\n",
              "    .dataframe tbody tr th:only-of-type {\n",
              "        vertical-align: middle;\n",
              "    }\n",
              "\n",
              "    .dataframe tbody tr th {\n",
              "        vertical-align: top;\n",
              "    }\n",
              "\n",
              "    .dataframe thead th {\n",
              "        text-align: right;\n",
              "    }\n",
              "</style>\n",
              "<table border=\"1\" class=\"dataframe\">\n",
              "  <thead>\n",
              "    <tr style=\"text-align: right;\">\n",
              "      <th></th>\n",
              "      <th>id</th>\n",
              "      <th>fecha</th>\n",
              "      <th>estado</th>\n",
              "      <th>tipo_servicio</th>\n",
              "      <th>directorio</th>\n",
              "      <th>direccion</th>\n",
              "      <th>latitud</th>\n",
              "      <th>longitud</th>\n",
              "      <th>barrio</th>\n",
              "      <th>nombres</th>\n",
              "      <th>genero</th>\n",
              "      <th>comuna</th>\n",
              "      <th>MONTHYEAR</th>\n",
              "      <th>WEEK</th>\n",
              "    </tr>\n",
              "  </thead>\n",
              "  <tbody>\n",
              "    <tr>\n",
              "      <th>0</th>\n",
              "      <td>1684494</td>\n",
              "      <td>2019-06-15</td>\n",
              "      <td>Confirmada fuera de tiempo</td>\n",
              "      <td>SC</td>\n",
              "      <td>1342</td>\n",
              "      <td>calle 16 # 37 - 47 las margaritas</td>\n",
              "      <td>1.220376</td>\n",
              "      <td>-77.286333</td>\n",
              "      <td>margaritas</td>\n",
              "      <td>None</td>\n",
              "      <td>NaN</td>\n",
              "      <td>8.0</td>\n",
              "      <td>2019-06</td>\n",
              "      <td>5</td>\n",
              "    </tr>\n",
              "    <tr>\n",
              "      <th>1</th>\n",
              "      <td>1684511</td>\n",
              "      <td>2019-06-15</td>\n",
              "      <td>Confirmada</td>\n",
              "      <td>SC</td>\n",
              "      <td>1024</td>\n",
              "      <td>torres de mariluz</td>\n",
              "      <td>NaN</td>\n",
              "      <td>NaN</td>\n",
              "      <td>mariluz</td>\n",
              "      <td>None</td>\n",
              "      <td>NaN</td>\n",
              "      <td>8.0</td>\n",
              "      <td>2019-06</td>\n",
              "      <td>5</td>\n",
              "    </tr>\n",
              "    <tr>\n",
              "      <th>2</th>\n",
              "      <td>1684513</td>\n",
              "      <td>2019-06-15</td>\n",
              "      <td>Confirmada fuera de tiempo</td>\n",
              "      <td>SC</td>\n",
              "      <td>7293074</td>\n",
              "      <td>miravalle</td>\n",
              "      <td>NaN</td>\n",
              "      <td>NaN</td>\n",
              "      <td>miravalle</td>\n",
              "      <td>None</td>\n",
              "      <td>NaN</td>\n",
              "      <td>8.0</td>\n",
              "      <td>2019-06</td>\n",
              "      <td>5</td>\n",
              "    </tr>\n",
              "    <tr>\n",
              "      <th>3</th>\n",
              "      <td>1684520</td>\n",
              "      <td>2019-06-15</td>\n",
              "      <td>Confirmada fuera de tiempo</td>\n",
              "      <td>SC</td>\n",
              "      <td>3013488266</td>\n",
              "      <td>carrera 24  13 54 santiago</td>\n",
              "      <td>NaN</td>\n",
              "      <td>NaN</td>\n",
              "      <td>santiago</td>\n",
              "      <td>None</td>\n",
              "      <td>NaN</td>\n",
              "      <td>1.0</td>\n",
              "      <td>2019-06</td>\n",
              "      <td>5</td>\n",
              "    </tr>\n",
              "    <tr>\n",
              "      <th>4</th>\n",
              "      <td>1684525</td>\n",
              "      <td>2019-06-15</td>\n",
              "      <td>Confirmada fuera de tiempo</td>\n",
              "      <td>SC</td>\n",
              "      <td>1011</td>\n",
              "      <td>carrera 35  19 10 habitar versalles</td>\n",
              "      <td>NaN</td>\n",
              "      <td>NaN</td>\n",
              "      <td>versalles</td>\n",
              "      <td>None</td>\n",
              "      <td>NaN</td>\n",
              "      <td>9.0</td>\n",
              "      <td>2019-06</td>\n",
              "      <td>5</td>\n",
              "    </tr>\n",
              "    <tr>\n",
              "      <th>...</th>\n",
              "      <td>...</td>\n",
              "      <td>...</td>\n",
              "      <td>...</td>\n",
              "      <td>...</td>\n",
              "      <td>...</td>\n",
              "      <td>...</td>\n",
              "      <td>...</td>\n",
              "      <td>...</td>\n",
              "      <td>...</td>\n",
              "      <td>...</td>\n",
              "      <td>...</td>\n",
              "      <td>...</td>\n",
              "      <td>...</td>\n",
              "      <td>...</td>\n",
              "    </tr>\n",
              "    <tr>\n",
              "      <th>2436910</th>\n",
              "      <td>1684278</td>\n",
              "      <td>2019-06-15</td>\n",
              "      <td>Confirmada fuera de tiempo</td>\n",
              "      <td>SC</td>\n",
              "      <td>3177203316</td>\n",
              "      <td>canchala</td>\n",
              "      <td>NaN</td>\n",
              "      <td>NaN</td>\n",
              "      <td>None</td>\n",
              "      <td>None</td>\n",
              "      <td>NaN</td>\n",
              "      <td>NaN</td>\n",
              "      <td>2019-06</td>\n",
              "      <td>5</td>\n",
              "    </tr>\n",
              "    <tr>\n",
              "      <th>2436911</th>\n",
              "      <td>1684341</td>\n",
              "      <td>2019-06-15</td>\n",
              "      <td>Confirmada fuera de tiempo</td>\n",
              "      <td>SC</td>\n",
              "      <td>3165780828</td>\n",
              "      <td>carrera 18 13a 24</td>\n",
              "      <td>NaN</td>\n",
              "      <td>NaN</td>\n",
              "      <td>None</td>\n",
              "      <td>None</td>\n",
              "      <td>NaN</td>\n",
              "      <td>NaN</td>\n",
              "      <td>2019-06</td>\n",
              "      <td>5</td>\n",
              "    </tr>\n",
              "    <tr>\n",
              "      <th>2436912</th>\n",
              "      <td>1684398</td>\n",
              "      <td>2019-06-15</td>\n",
              "      <td>Confirmada fuera de tiempo</td>\n",
              "      <td>SC</td>\n",
              "      <td>3013922758</td>\n",
              "      <td>carreraa  41  9  25   m/3</td>\n",
              "      <td>NaN</td>\n",
              "      <td>NaN</td>\n",
              "      <td>None</td>\n",
              "      <td>None</td>\n",
              "      <td>NaN</td>\n",
              "      <td>NaN</td>\n",
              "      <td>2019-06</td>\n",
              "      <td>5</td>\n",
              "    </tr>\n",
              "    <tr>\n",
              "      <th>2436913</th>\n",
              "      <td>1684449</td>\n",
              "      <td>2019-06-15</td>\n",
              "      <td>Confirmada fuera de tiempo</td>\n",
              "      <td>SC</td>\n",
              "      <td>3015410836</td>\n",
              "      <td>calle 19 # 17b - 58</td>\n",
              "      <td>NaN</td>\n",
              "      <td>NaN</td>\n",
              "      <td>None</td>\n",
              "      <td>None</td>\n",
              "      <td>NaN</td>\n",
              "      <td>NaN</td>\n",
              "      <td>2019-06</td>\n",
              "      <td>5</td>\n",
              "    </tr>\n",
              "    <tr>\n",
              "      <th>2436914</th>\n",
              "      <td>1684482</td>\n",
              "      <td>2019-06-15</td>\n",
              "      <td>Confirmada fuera de tiempo</td>\n",
              "      <td>SC</td>\n",
              "      <td>3165187982</td>\n",
              "      <td>calle 12 # 32 - 56 la aurora</td>\n",
              "      <td>NaN</td>\n",
              "      <td>NaN</td>\n",
              "      <td>la aurora</td>\n",
              "      <td>None</td>\n",
              "      <td>NaN</td>\n",
              "      <td>7.0</td>\n",
              "      <td>2019-06</td>\n",
              "      <td>5</td>\n",
              "    </tr>\n",
              "  </tbody>\n",
              "</table>\n",
              "<p>2434851 rows × 14 columns</p>\n",
              "</div>"
            ],
            "text/plain": [
              "              id      fecha                      estado  ... comuna MONTHYEAR WEEK\n",
              "0        1684494 2019-06-15  Confirmada fuera de tiempo  ...    8.0   2019-06    5\n",
              "1        1684511 2019-06-15                  Confirmada  ...    8.0   2019-06    5\n",
              "2        1684513 2019-06-15  Confirmada fuera de tiempo  ...    8.0   2019-06    5\n",
              "3        1684520 2019-06-15  Confirmada fuera de tiempo  ...    1.0   2019-06    5\n",
              "4        1684525 2019-06-15  Confirmada fuera de tiempo  ...    9.0   2019-06    5\n",
              "...          ...        ...                         ...  ...    ...       ...  ...\n",
              "2436910  1684278 2019-06-15  Confirmada fuera de tiempo  ...    NaN   2019-06    5\n",
              "2436911  1684341 2019-06-15  Confirmada fuera de tiempo  ...    NaN   2019-06    5\n",
              "2436912  1684398 2019-06-15  Confirmada fuera de tiempo  ...    NaN   2019-06    5\n",
              "2436913  1684449 2019-06-15  Confirmada fuera de tiempo  ...    NaN   2019-06    5\n",
              "2436914  1684482 2019-06-15  Confirmada fuera de tiempo  ...    7.0   2019-06    5\n",
              "\n",
              "[2434851 rows x 14 columns]"
            ]
          },
          "metadata": {
            "tags": []
          },
          "execution_count": 66
        }
      ]
    },
    {
      "cell_type": "code",
      "metadata": {
        "id": "32Io3sGgW1n4",
        "outputId": "9e953705-3d90-47e6-e1b4-5009c3a5aa1c",
        "colab": {
          "base_uri": "https://localhost:8080/",
          "height": 394
        }
      },
      "source": [
        "g = sns.FacetGrid(df_taxisrcp, col=\"tipo_servicio\", height=5, aspect=1)\n",
        "\n",
        "g.map(sns.countplot, \"comuna\")"
      ],
      "execution_count": null,
      "outputs": [
        {
          "output_type": "stream",
          "text": [
            "/usr/local/lib/python3.6/dist-packages/seaborn/axisgrid.py:645: UserWarning: Using the countplot function without specifying `order` is likely to produce an incorrect plot.\n",
            "  warnings.warn(warning)\n"
          ],
          "name": "stderr"
        },
        {
          "output_type": "execute_result",
          "data": {
            "text/plain": [
              "<seaborn.axisgrid.FacetGrid at 0x7f29226e71d0>"
            ]
          },
          "metadata": {
            "tags": []
          },
          "execution_count": 83
        },
        {
          "output_type": "display_data",
          "data": {
            "image/png": "[encoded data removed]",
            "text/plain": [
              "<Figure size 1440x360 with 4 Axes>"
            ]
          },
          "metadata": {
            "tags": [],
            "needs_background": "light"
          }
        }
      ]
    },
    {
      "cell_type": "code",
      "metadata": {
        "id": "RCKRIDvczFZf",
        "outputId": "7ad0f4f9-629c-4e02-de19-9db9fc93b4ec",
        "colab": {
          "base_uri": "https://localhost:8080/",
          "height": 417
        }
      },
      "source": [
        "plt.subplots(figsize=(18,6))\n",
        "df_taxisrcp.groupby([\"MONTHYEAR\"]).size().plot()\n"
      ],
      "execution_count": null,
      "outputs": [
        {
          "output_type": "execute_result",
          "data": {
            "text/plain": [
              "<matplotlib.axes._subplots.AxesSubplot at 0x7f2928670780>"
            ]
          },
          "metadata": {
            "tags": []
          },
          "execution_count": 86
        },
        {
          "output_type": "display_data",
          "data": {
            "image/png": "[encoded data removed]",
            "text/plain": [
              "<Figure size 1296x432 with 1 Axes>"
            ]
          },
          "metadata": {
            "tags": [],
            "needs_background": "light"
          }
        }
      ]
    },
    {
      "cell_type": "code",
      "metadata": {
        "id": "2uO3jLCR7KUJ",
        "outputId": "23f41c79-0392-4014-c6ce-5702bb590bc8",
        "colab": {
          "base_uri": "https://localhost:8080/",
          "height": 561
        }
      },
      "source": [
        "df_taxisrcp.groupby([\"barrio\"]).size().sort_values(axis=0, ascending=True).head(30)\n",
        "                                                                            "
      ],
      "execution_count": null,
      "outputs": [
        {
          "output_type": "execute_result",
          "data": {
            "text/plain": [
              "barrio\n",
              "Sena                              1\n",
              "Carlos Pizarro                    1\n",
              "Casa Bella                        1\n",
              "Cra 27 A Del Barrio Centenario    1\n",
              "Cujacal Bajo                      1\n",
              "Doce De Octubre I                 1\n",
              "ocho de marzo                     1\n",
              "Emilio Botero I                   1\n",
              "Emilio Botero III                 1\n",
              "marquetalia                       1\n",
              "castillos  del norte              1\n",
              "Miravalle                         1\n",
              "villa del prado                   1\n",
              "Nueva Betania                     1\n",
              "Mocondino Centro (Cabecera)       1\n",
              "Popular                           1\n",
              "Santa Isabel                      1\n",
              "Torres de Pubenza                 1\n",
              "San José de Catambuco             1\n",
              "Villa Aurora                      1\n",
              "Villa Jardín                      1\n",
              "Rio Blanco                        1\n",
              "Altamira – San Vicente            1\n",
              "Quillotocto                       1\n",
              "Prados Del Sur                    1\n",
              "juan xxiii                        2\n",
              "Fray Ezequiel Moreno Diaz         2\n",
              "Los Cristales                     2\n",
              "Nuevo Amanecer                    2\n",
              "Mirador De Niza                   2\n",
              "dtype: int64"
            ]
          },
          "metadata": {
            "tags": []
          },
          "execution_count": 95
        }
      ]
    },
    {
      "cell_type": "code",
      "metadata": {
        "id": "d4CGdm4q3czn"
      },
      "source": [
        "df_taxisrcp['barrio']=df_taxisrcp['barrio'].str.lower()\n",
        "df_taxisrcp['barrio']=df_taxisrcp['barrio'].str.strip()\n",
        "df_taxisrcp['barrio']=df_taxisrcp['barrio'].str.rstrip()\n",
        "df_taxisrcp['barrio'] = df_taxisrcp['barrio'].str.replace(\"altavista\",\"alta vista\")\n",
        "df_taxisrcp['barrio'] = df_taxisrcp['barrio'].str.replace(\"altamira – san vicente\",\"altamira\")\n",
        "df_taxisrcp['barrio'] = df_taxisrcp['barrio'].str.replace(\"avenida champagnath\",\"avenida champagnat\")\n",
        "df_taxisrcp['barrio'] = df_taxisrcp['barrio'].str.replace(\"castillos  del norte\",\"castillos del norte\")\n",
        "df_taxisrcp['barrio'] = df_taxisrcp['barrio'].str.replace(\"fray ezequiel\",\"fray ezequiel moreno diaz\")"
      ],
      "execution_count": 92,
      "outputs": []
    },
    {
      "cell_type": "code",
      "metadata": {
        "id": "xuh52sZB8Wy4"
      },
      "source": [
        "df_taxisrcp['barrio'] = df_taxisrcp['barrio'].str.replace(\"castillos  del norte\",\"castillos del norte\")\n",
        "df_taxisrcp['barrio'] = df_taxisrcp['barrio'].str.replace(\"cra 27 a del barrio centenario\",\"centenario\")\n",
        "df_taxisrcp['barrio'] = df_taxisrcp['barrio'].str.replace(\"fray ezequiel\",\"fray ezequiel moreno diaz\")\n",
        "df_taxisrcp['barrio'] = df_taxisrcp['barrio'].str.replace(\"cuadras\",\"las cuadras\")\n",
        "df_taxisrcp['barrio'] = df_taxisrcp['barrio'].str.replace(\"lunas\",\"las lunas\")"
      ],
      "execution_count": 106,
      "outputs": []
    },
    {
      "cell_type": "code",
      "metadata": {
        "id": "ZNpqmxf0szS2"
      },
      "source": [
        "barrios=df_taxisrcp['barrio'].unique()"
      ],
      "execution_count": 107,
      "outputs": []
    },
    {
      "cell_type": "code",
      "metadata": {
        "id": "6R5Nwlyo0VlP"
      },
      "source": [
        "barrios=pd.DataFrame(barrios)\n",
        "barrios=barrios.sort_values(by=0)\n"
      ],
      "execution_count": 108,
      "outputs": []
    },
    {
      "cell_type": "code",
      "metadata": {
        "id": "54KN_QPC6kA4",
        "outputId": "639006b3-3019-4d71-be0e-4f986c4a253e",
        "colab": {
          "base_uri": "https://localhost:8080/",
          "height": 421
        }
      },
      "source": [
        "barrios[450:500]"
      ],
      "execution_count": 109,
      "outputs": [
        {
          "output_type": "execute_result",
          "data": {
            "text/html": [
              "<div>\n",
              "<style scoped>\n",
              "    .dataframe tbody tr th:only-of-type {\n",
              "        vertical-align: middle;\n",
              "    }\n",
              "\n",
              "    .dataframe tbody tr th {\n",
              "        vertical-align: top;\n",
              "    }\n",
              "\n",
              "    .dataframe thead th {\n",
              "        text-align: right;\n",
              "    }\n",
              "</style>\n",
              "<table border=\"1\" class=\"dataframe\">\n",
              "  <thead>\n",
              "    <tr style=\"text-align: right;\">\n",
              "      <th></th>\n",
              "      <th>0</th>\n",
              "    </tr>\n",
              "  </thead>\n",
              "  <tbody>\n",
              "    <tr>\n",
              "      <th>155</th>\n",
              "      <td>villa sofia</td>\n",
              "    </tr>\n",
              "    <tr>\n",
              "      <th>7</th>\n",
              "      <td>villa vergel</td>\n",
              "    </tr>\n",
              "    <tr>\n",
              "      <th>332</th>\n",
              "      <td>villa victoria</td>\n",
              "    </tr>\n",
              "    <tr>\n",
              "      <th>220</th>\n",
              "      <td>villadocente</td>\n",
              "    </tr>\n",
              "    <tr>\n",
              "      <th>311</th>\n",
              "      <td>villaflor i</td>\n",
              "    </tr>\n",
              "    <tr>\n",
              "      <th>166</th>\n",
              "      <td>villaflor ii</td>\n",
              "    </tr>\n",
              "    <tr>\n",
              "      <th>74</th>\n",
              "      <td>villas de san rafael</td>\n",
              "    </tr>\n",
              "    <tr>\n",
              "      <th>262</th>\n",
              "      <td>villas del norte</td>\n",
              "    </tr>\n",
              "    <tr>\n",
              "      <th>450</th>\n",
              "      <td>villa  maria</td>\n",
              "    </tr>\n",
              "    <tr>\n",
              "      <th>171</th>\n",
              "      <td>violetas</td>\n",
              "    </tr>\n",
              "    <tr>\n",
              "      <th>389</th>\n",
              "      <td>zarama</td>\n",
              "    </tr>\n",
              "    <tr>\n",
              "      <th>21</th>\n",
              "      <td>None</td>\n",
              "    </tr>\n",
              "  </tbody>\n",
              "</table>\n",
              "</div>"
            ],
            "text/plain": [
              "                        0\n",
              "155           villa sofia\n",
              "7            villa vergel\n",
              "332        villa victoria\n",
              "220          villadocente\n",
              "311           villaflor i\n",
              "166          villaflor ii\n",
              "74   villas de san rafael\n",
              "262      villas del norte\n",
              "450          villa  maria\n",
              "171              violetas\n",
              "389                zarama\n",
              "21                   None"
            ]
          },
          "metadata": {
            "tags": []
          },
          "execution_count": 109
        }
      ]
    }
  ]
}